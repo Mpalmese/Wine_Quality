{
 "cells": [
  {
   "cell_type": "code",
   "execution_count": 81,
   "metadata": {},
   "outputs": [],
   "source": [
    "# import dependencies \n",
    "import matplotlib.pyplot as plt\n",
    "import seaborn as sns\n",
    "import pandas as pd\n",
    "%matplotlib inline"
   ]
  },
  {
   "cell_type": "code",
   "execution_count": 82,
   "metadata": {},
   "outputs": [
    {
     "data": {
      "text/html": [
       "<div>\n",
       "<style scoped>\n",
       "    .dataframe tbody tr th:only-of-type {\n",
       "        vertical-align: middle;\n",
       "    }\n",
       "\n",
       "    .dataframe tbody tr th {\n",
       "        vertical-align: top;\n",
       "    }\n",
       "\n",
       "    .dataframe thead th {\n",
       "        text-align: right;\n",
       "    }\n",
       "</style>\n",
       "<table border=\"1\" class=\"dataframe\">\n",
       "  <thead>\n",
       "    <tr style=\"text-align: right;\">\n",
       "      <th></th>\n",
       "      <th>fixed.acidity</th>\n",
       "      <th>volatile.acidity</th>\n",
       "      <th>citric.acid</th>\n",
       "      <th>residual.sugar</th>\n",
       "      <th>chlorides</th>\n",
       "      <th>free.sulfur.dioxide</th>\n",
       "      <th>total.sulfur.dioxide</th>\n",
       "      <th>density</th>\n",
       "      <th>pH</th>\n",
       "      <th>sulphates</th>\n",
       "      <th>alcohol</th>\n",
       "      <th>quality</th>\n",
       "    </tr>\n",
       "  </thead>\n",
       "  <tbody>\n",
       "    <tr>\n",
       "      <th>1</th>\n",
       "      <td>7.0</td>\n",
       "      <td>0.27</td>\n",
       "      <td>0.36</td>\n",
       "      <td>20.7</td>\n",
       "      <td>0.045</td>\n",
       "      <td>45.0</td>\n",
       "      <td>170.0</td>\n",
       "      <td>1.0010</td>\n",
       "      <td>3.00</td>\n",
       "      <td>0.45</td>\n",
       "      <td>8.8</td>\n",
       "      <td>6</td>\n",
       "    </tr>\n",
       "    <tr>\n",
       "      <th>2</th>\n",
       "      <td>6.3</td>\n",
       "      <td>0.30</td>\n",
       "      <td>0.34</td>\n",
       "      <td>1.6</td>\n",
       "      <td>0.049</td>\n",
       "      <td>14.0</td>\n",
       "      <td>132.0</td>\n",
       "      <td>0.9940</td>\n",
       "      <td>3.30</td>\n",
       "      <td>0.49</td>\n",
       "      <td>9.5</td>\n",
       "      <td>6</td>\n",
       "    </tr>\n",
       "    <tr>\n",
       "      <th>3</th>\n",
       "      <td>8.1</td>\n",
       "      <td>0.28</td>\n",
       "      <td>0.40</td>\n",
       "      <td>6.9</td>\n",
       "      <td>0.050</td>\n",
       "      <td>30.0</td>\n",
       "      <td>97.0</td>\n",
       "      <td>0.9951</td>\n",
       "      <td>3.26</td>\n",
       "      <td>0.44</td>\n",
       "      <td>10.1</td>\n",
       "      <td>6</td>\n",
       "    </tr>\n",
       "    <tr>\n",
       "      <th>4</th>\n",
       "      <td>7.2</td>\n",
       "      <td>0.23</td>\n",
       "      <td>0.32</td>\n",
       "      <td>8.5</td>\n",
       "      <td>0.058</td>\n",
       "      <td>47.0</td>\n",
       "      <td>186.0</td>\n",
       "      <td>0.9956</td>\n",
       "      <td>3.19</td>\n",
       "      <td>0.40</td>\n",
       "      <td>9.9</td>\n",
       "      <td>6</td>\n",
       "    </tr>\n",
       "    <tr>\n",
       "      <th>5</th>\n",
       "      <td>7.2</td>\n",
       "      <td>0.23</td>\n",
       "      <td>0.32</td>\n",
       "      <td>8.5</td>\n",
       "      <td>0.058</td>\n",
       "      <td>47.0</td>\n",
       "      <td>186.0</td>\n",
       "      <td>0.9956</td>\n",
       "      <td>3.19</td>\n",
       "      <td>0.40</td>\n",
       "      <td>9.9</td>\n",
       "      <td>6</td>\n",
       "    </tr>\n",
       "  </tbody>\n",
       "</table>\n",
       "</div>"
      ],
      "text/plain": [
       "   fixed.acidity  volatile.acidity  citric.acid  residual.sugar  chlorides  \\\n",
       "1            7.0              0.27         0.36            20.7      0.045   \n",
       "2            6.3              0.30         0.34             1.6      0.049   \n",
       "3            8.1              0.28         0.40             6.9      0.050   \n",
       "4            7.2              0.23         0.32             8.5      0.058   \n",
       "5            7.2              0.23         0.32             8.5      0.058   \n",
       "\n",
       "   free.sulfur.dioxide  total.sulfur.dioxide  density    pH  sulphates  \\\n",
       "1                 45.0                 170.0   1.0010  3.00       0.45   \n",
       "2                 14.0                 132.0   0.9940  3.30       0.49   \n",
       "3                 30.0                  97.0   0.9951  3.26       0.44   \n",
       "4                 47.0                 186.0   0.9956  3.19       0.40   \n",
       "5                 47.0                 186.0   0.9956  3.19       0.40   \n",
       "\n",
       "   alcohol  quality  \n",
       "1      8.8        6  \n",
       "2      9.5        6  \n",
       "3     10.1        6  \n",
       "4      9.9        6  \n",
       "5      9.9        6  "
      ]
     },
     "execution_count": 82,
     "metadata": {},
     "output_type": "execute_result"
    }
   ],
   "source": [
    "#Read data and show data\n",
    "wine = pd.read_csv('wineQualityWhitecut.csv', index_col = 0)\n",
    "wine.head()"
   ]
  },
  {
   "cell_type": "code",
   "execution_count": 83,
   "metadata": {},
   "outputs": [
    {
     "name": "stdout",
     "output_type": "stream",
     "text": [
      "<class 'pandas.core.frame.DataFrame'>\n",
      "Int64Index: 1599 entries, 1 to 1599\n",
      "Data columns (total 12 columns):\n",
      "fixed.acidity           1599 non-null float64\n",
      "volatile.acidity        1599 non-null float64\n",
      "citric.acid             1599 non-null float64\n",
      "residual.sugar          1599 non-null float64\n",
      "chlorides               1599 non-null float64\n",
      "free.sulfur.dioxide     1599 non-null float64\n",
      "total.sulfur.dioxide    1599 non-null float64\n",
      "density                 1599 non-null float64\n",
      "pH                      1599 non-null float64\n",
      "sulphates               1599 non-null float64\n",
      "alcohol                 1599 non-null float64\n",
      "quality                 1599 non-null int64\n",
      "dtypes: float64(11), int64(1)\n",
      "memory usage: 162.4 KB\n"
     ]
    }
   ],
   "source": [
    "#Column info\n",
    "wine.info()"
   ]
  },
  {
   "cell_type": "markdown",
   "metadata": {},
   "source": [
    "## Preprocessing Data for performing Machine learning algorithms¶"
   ]
  },
  {
   "cell_type": "code",
   "execution_count": 84,
   "metadata": {},
   "outputs": [],
   "source": [
    "#Classification - wine rated 7 or higher is good white wine\n",
    "bins = (2, 6.5, 9)\n",
    "group_names = ['bad', 'good']\n",
    "wine['quality'] = pd.cut(wine['quality'], bins = bins, labels = group_names)"
   ]
  },
  {
   "cell_type": "code",
   "execution_count": 85,
   "metadata": {},
   "outputs": [],
   "source": [
    "# bad = 0 and good = 1 \n",
    "from sklearn.preprocessing import LabelEncoder\n",
    "label_quality = LabelEncoder()\n",
    "wine['quality'] = label_quality.fit_transform(wine['quality'].astype(str))"
   ]
  },
  {
   "cell_type": "code",
   "execution_count": 86,
   "metadata": {},
   "outputs": [
    {
     "data": {
      "text/plain": [
       "0    1234\n",
       "1     365\n",
       "Name: quality, dtype: int64"
      ]
     },
     "execution_count": 86,
     "metadata": {},
     "output_type": "execute_result"
    }
   ],
   "source": [
    "# Categorizing 'good' and 'bad' counts\n",
    "wine['quality'].value_counts()"
   ]
  },
  {
   "cell_type": "code",
   "execution_count": 87,
   "metadata": {},
   "outputs": [
    {
     "data": {
      "text/plain": [
       "<matplotlib.axes._subplots.AxesSubplot at 0x1a23ba9400>"
      ]
     },
     "execution_count": 87,
     "metadata": {},
     "output_type": "execute_result"
    },
    {
     "data": {
      "image/png": "[encoded data removed]",
      "text/plain": [
       "<Figure size 432x288 with 1 Axes>"
      ]
     },
     "metadata": {
      "needs_background": "light"
     },
     "output_type": "display_data"
    }
   ],
   "source": [
    "#quality vs alcohol\n",
    "# bad quality = 0, good quality = 1\n",
    "# More alcohol, better white wine\n",
    "sns.barplot(x='quality', y='alcohol',data=wine)"
   ]
  },
  {
   "cell_type": "code",
   "execution_count": 88,
   "metadata": {},
   "outputs": [
    {
     "data": {
      "text/plain": [
       "<matplotlib.axes._subplots.AxesSubplot at 0x1a23c564a8>"
      ]
     },
     "execution_count": 88,
     "metadata": {},
     "output_type": "execute_result"
    },
    {
     "data": {
      "image/png": "[encoded data removed]",
      "text/plain": [
       "<Figure size 432x288 with 1 Axes>"
      ]
     },
     "metadata": {
      "needs_background": "light"
     },
     "output_type": "display_data"
    }
   ],
   "source": [
    "#quality vs density\n",
    "# bad quality = 0, good quality = 1\n",
    "# Even for density\n",
    "sns.barplot(x='quality', y='density',data=wine)"
   ]
  },
  {
   "cell_type": "code",
   "execution_count": 89,
   "metadata": {},
   "outputs": [],
   "source": [
    "#splitting data to X and y\n",
    "X = wine.drop(['quality'], axis = 1)\n",
    "y = wine['quality']"
   ]
  },
  {
   "cell_type": "code",
   "execution_count": 90,
   "metadata": {},
   "outputs": [],
   "source": [
    "#Train Test Split data\n",
    "from sklearn.model_selection import train_test_split\n",
    "X_train, X_test, y_train, y_test = train_test_split(X, y, test_size = 0.2, random_state = 42)"
   ]
  },
  {
   "cell_type": "code",
   "execution_count": 91,
   "metadata": {},
   "outputs": [],
   "source": [
    "#Standard Scaling\n",
    "from sklearn.preprocessing import StandardScaler\n",
    "sc = StandardScaler()"
   ]
  },
  {
   "cell_type": "code",
   "execution_count": 92,
   "metadata": {},
   "outputs": [],
   "source": [
    "X_train = sc.fit_transform(X_train)\n",
    "X_test = sc.fit_transform(X_test)"
   ]
  },
  {
   "cell_type": "markdown",
   "metadata": {},
   "source": [
    "# Random Forest Classifier"
   ]
  },
  {
   "cell_type": "code",
   "execution_count": 93,
   "metadata": {},
   "outputs": [],
   "source": [
    "from sklearn.ensemble import RandomForestClassifier\n",
    "rfc = RandomForestClassifier(n_estimators=200)\n",
    "rfc.fit(X_train, y_train)\n",
    "pred_rfc = rfc.predict(X_test)"
   ]
  },
  {
   "cell_type": "code",
   "execution_count": 94,
   "metadata": {},
   "outputs": [
    {
     "name": "stdout",
     "output_type": "stream",
     "text": [
      "              precision    recall  f1-score   support\n",
      "\n",
      "           0       0.91      0.94      0.92       256\n",
      "           1       0.71      0.62      0.67        64\n",
      "\n",
      "   micro avg       0.88      0.88      0.88       320\n",
      "   macro avg       0.81      0.78      0.79       320\n",
      "weighted avg       0.87      0.88      0.87       320\n",
      "\n"
     ]
    }
   ],
   "source": [
    "from sklearn.metrics import classification_report\n",
    "print(classification_report(y_test, pred_rfc))"
   ]
  },
  {
   "cell_type": "code",
   "execution_count": 95,
   "metadata": {},
   "outputs": [
    {
     "data": {
      "text/plain": [
       "array([0.05905461, 0.06840012, 0.07019634, 0.074557  , 0.09483136,\n",
       "       0.07915375, 0.08275642, 0.11495041, 0.09489505, 0.07846057,\n",
       "       0.18274437])"
      ]
     },
     "execution_count": 95,
     "metadata": {},
     "output_type": "execute_result"
    }
   ],
   "source": [
    "#Check most important variables\n",
    "rfc.feature_importances_"
   ]
  },
  {
   "cell_type": "markdown",
   "metadata": {},
   "source": [
    "### Most important variables are density and alcohol"
   ]
  },
  {
   "cell_type": "code",
   "execution_count": 96,
   "metadata": {},
   "outputs": [],
   "source": [
    "feats = ['density','alcohol']"
   ]
  },
  {
   "cell_type": "code",
   "execution_count": 97,
   "metadata": {},
   "outputs": [],
   "source": [
    "#Retrain using important variables\n",
    "x_train, x_test, Y_train, Y_test = train_test_split(wine[feats], wine.quality, test_size = 0.2, random_state = 42)"
   ]
  },
  {
   "cell_type": "code",
   "execution_count": 98,
   "metadata": {},
   "outputs": [],
   "source": [
    "rfc2 = RandomForestClassifier(n_estimators=200)\n",
    "rfc2.fit(x_train, Y_train)\n",
    "pred_rfc2 = rfc2.predict(x_test)"
   ]
  },
  {
   "cell_type": "code",
   "execution_count": 99,
   "metadata": {},
   "outputs": [
    {
     "name": "stdout",
     "output_type": "stream",
     "text": [
      "              precision    recall  f1-score   support\n",
      "\n",
      "           0       0.88      0.83      0.85       256\n",
      "           1       0.44      0.55      0.49        64\n",
      "\n",
      "   micro avg       0.77      0.77      0.77       320\n",
      "   macro avg       0.66      0.69      0.67       320\n",
      "weighted avg       0.79      0.77      0.78       320\n",
      "\n"
     ]
    }
   ],
   "source": [
    "print(classification_report(Y_test, pred_rfc2))"
   ]
  },
  {
   "cell_type": "markdown",
   "metadata": {},
   "source": [
    "### Random forest classifier has accuracy of 87% using all data, 79% using most important features"
   ]
  },
  {
   "cell_type": "code",
   "execution_count": 101,
   "metadata": {},
   "outputs": [
    {
     "name": "stdout",
     "output_type": "stream",
     "text": [
      "[[240  16]\n",
      " [ 24  40]]\n"
     ]
    }
   ],
   "source": [
    "#Confusion matrix\n",
    "from sklearn.metrics import confusion_matrix\n",
    "print(confusion_matrix(y_test, pred_rfc))"
   ]
  },
  {
   "cell_type": "markdown",
   "metadata": {},
   "source": [
    "# # Support Vector Classifier¶"
   ]
  },
  {
   "cell_type": "code",
   "execution_count": 106,
   "metadata": {},
   "outputs": [],
   "source": [
    "from sklearn.svm import SVC\n",
    "svc = SVC()\n",
    "svc.fit(X_train, y_train)\n",
    "pred_svc = svc.predict(X_test)"
   ]
  },
  {
   "cell_type": "code",
   "execution_count": 107,
   "metadata": {},
   "outputs": [
    {
     "name": "stdout",
     "output_type": "stream",
     "text": [
      "              precision    recall  f1-score   support\n",
      "\n",
      "           0       0.88      0.92      0.90       256\n",
      "           1       0.60      0.50      0.55        64\n",
      "\n",
      "   micro avg       0.83      0.83      0.83       320\n",
      "   macro avg       0.74      0.71      0.72       320\n",
      "weighted avg       0.82      0.83      0.83       320\n",
      "\n"
     ]
    }
   ],
   "source": [
    "print(classification_report(y_test, pred_svc))"
   ]
  },
  {
   "cell_type": "markdown",
   "metadata": {},
   "source": [
    "### Support vector classifier has accuracy of 82%"
   ]
  },
  {
   "cell_type": "code",
   "execution_count": 108,
   "metadata": {},
   "outputs": [],
   "source": [
    "#Grid search for best model and parameters\n",
    "from sklearn.model_selection import GridSearchCV\n",
    "param = {\n",
    "    'C': [1, 10, 100, 1000],\n",
    "    'kernel':['linear', 'rbf'],\n",
    "    'gamma' :[0.0001, 0.0005, 0.001, 0.005]\n",
    "}\n",
    "grid_svc = GridSearchCV(svc, param_grid=param, scoring='accuracy', cv=10, verbose = 3)"
   ]
  },
  {
   "cell_type": "code",
   "execution_count": null,
   "metadata": {},
   "outputs": [
    {
     "name": "stdout",
     "output_type": "stream",
     "text": [
      "Fitting 10 folds for each of 32 candidates, totalling 320 fits\n",
      "[CV] C=1, gamma=0.0001, kernel=linear ................................\n",
      "[CV]  C=1, gamma=0.0001, kernel=linear, score=0.7906976744186046, total=   0.0s\n",
      "[CV] C=1, gamma=0.0001, kernel=linear ................................\n",
      "[CV] . C=1, gamma=0.0001, kernel=linear, score=0.828125, total=   0.0s\n",
      "[CV] C=1, gamma=0.0001, kernel=linear ................................\n",
      "[CV] ... C=1, gamma=0.0001, kernel=linear, score=0.8125, total=   0.0s\n",
      "[CV] C=1, gamma=0.0001, kernel=linear ................................\n",
      "[CV] . C=1, gamma=0.0001, kernel=linear, score=0.796875, total=   0.0s\n",
      "[CV] C=1, gamma=0.0001, kernel=linear ................................\n"
     ]
    },
    {
     "name": "stderr",
     "output_type": "stream",
     "text": [
      "[Parallel(n_jobs=1)]: Using backend SequentialBackend with 1 concurrent workers.\n",
      "[Parallel(n_jobs=1)]: Done   1 out of   1 | elapsed:    0.0s remaining:    0.0s\n",
      "[Parallel(n_jobs=1)]: Done   2 out of   2 | elapsed:    0.1s remaining:    0.0s\n"
     ]
    },
    {
     "name": "stdout",
     "output_type": "stream",
     "text": [
      "[CV] . C=1, gamma=0.0001, kernel=linear, score=0.796875, total=   0.0s\n",
      "[CV] C=1, gamma=0.0001, kernel=linear ................................\n",
      "[CV]  C=1, gamma=0.0001, kernel=linear, score=0.8046875, total=   0.0s\n",
      "[CV] C=1, gamma=0.0001, kernel=linear ................................\n",
      "[CV]  C=1, gamma=0.0001, kernel=linear, score=0.7265625, total=   0.0s\n",
      "[CV] C=1, gamma=0.0001, kernel=linear ................................\n",
      "[CV] . C=1, gamma=0.0001, kernel=linear, score=0.828125, total=   0.0s\n",
      "[CV] C=1, gamma=0.0001, kernel=linear ................................\n",
      "[CV]  C=1, gamma=0.0001, kernel=linear, score=0.8188976377952756, total=   0.0s\n",
      "[CV] C=1, gamma=0.0001, kernel=linear ................................\n",
      "[CV]  C=1, gamma=0.0001, kernel=linear, score=0.8267716535433071, total=   0.0s\n",
      "[CV] C=1, gamma=0.0001, kernel=rbf ...................................\n",
      "[CV]  C=1, gamma=0.0001, kernel=rbf, score=0.7596899224806202, total=   0.0s\n",
      "[CV] C=1, gamma=0.0001, kernel=rbf ...................................\n",
      "[CV] .... C=1, gamma=0.0001, kernel=rbf, score=0.765625, total=   0.0s\n",
      "[CV] C=1, gamma=0.0001, kernel=rbf ...................................\n",
      "[CV] .... C=1, gamma=0.0001, kernel=rbf, score=0.765625, total=   0.0s\n",
      "[CV] C=1, gamma=0.0001, kernel=rbf ...................................\n",
      "[CV] .... C=1, gamma=0.0001, kernel=rbf, score=0.765625, total=   0.0s\n",
      "[CV] C=1, gamma=0.0001, kernel=rbf ...................................\n",
      "[CV] .... C=1, gamma=0.0001, kernel=rbf, score=0.765625, total=   0.0s\n",
      "[CV] C=1, gamma=0.0001, kernel=rbf ...................................\n",
      "[CV] .... C=1, gamma=0.0001, kernel=rbf, score=0.765625, total=   0.0s\n",
      "[CV] C=1, gamma=0.0001, kernel=rbf ...................................\n",
      "[CV] .... C=1, gamma=0.0001, kernel=rbf, score=0.765625, total=   0.0s\n",
      "[CV] C=1, gamma=0.0001, kernel=rbf ...................................\n",
      "[CV] .... C=1, gamma=0.0001, kernel=rbf, score=0.765625, total=   0.0s\n",
      "[CV] C=1, gamma=0.0001, kernel=rbf ...................................\n",
      "[CV]  C=1, gamma=0.0001, kernel=rbf, score=0.7637795275590551, total=   0.0s\n",
      "[CV] C=1, gamma=0.0001, kernel=rbf ...................................\n",
      "[CV]  C=1, gamma=0.0001, kernel=rbf, score=0.7637795275590551, total=   0.0s\n",
      "[CV] C=1, gamma=0.0005, kernel=linear ................................\n",
      "[CV]  C=1, gamma=0.0005, kernel=linear, score=0.7906976744186046, total=   0.0s\n",
      "[CV] C=1, gamma=0.0005, kernel=linear ................................\n",
      "[CV] . C=1, gamma=0.0005, kernel=linear, score=0.828125, total=   0.0s\n",
      "[CV] C=1, gamma=0.0005, kernel=linear ................................\n",
      "[CV] ... C=1, gamma=0.0005, kernel=linear, score=0.8125, total=   0.0s\n",
      "[CV] C=1, gamma=0.0005, kernel=linear ................................\n",
      "[CV] . C=1, gamma=0.0005, kernel=linear, score=0.796875, total=   0.0s\n",
      "[CV] C=1, gamma=0.0005, kernel=linear ................................\n",
      "[CV] . C=1, gamma=0.0005, kernel=linear, score=0.796875, total=   0.0s\n",
      "[CV] C=1, gamma=0.0005, kernel=linear ................................\n",
      "[CV]  C=1, gamma=0.0005, kernel=linear, score=0.8046875, total=   0.0s\n",
      "[CV] C=1, gamma=0.0005, kernel=linear ................................\n",
      "[CV]  C=1, gamma=0.0005, kernel=linear, score=0.7265625, total=   0.0s\n",
      "[CV] C=1, gamma=0.0005, kernel=linear ................................\n",
      "[CV] . C=1, gamma=0.0005, kernel=linear, score=0.828125, total=   0.0s\n",
      "[CV] C=1, gamma=0.0005, kernel=linear ................................\n",
      "[CV]  C=1, gamma=0.0005, kernel=linear, score=0.8188976377952756, total=   0.0s\n",
      "[CV] C=1, gamma=0.0005, kernel=linear ................................\n",
      "[CV]  C=1, gamma=0.0005, kernel=linear, score=0.8267716535433071, total=   0.0s\n",
      "[CV] C=1, gamma=0.0005, kernel=rbf ...................................\n",
      "[CV]  C=1, gamma=0.0005, kernel=rbf, score=0.7596899224806202, total=   0.0s\n",
      "[CV] C=1, gamma=0.0005, kernel=rbf ...................................\n",
      "[CV] .... C=1, gamma=0.0005, kernel=rbf, score=0.765625, total=   0.0s\n",
      "[CV] C=1, gamma=0.0005, kernel=rbf ...................................\n",
      "[CV] .... C=1, gamma=0.0005, kernel=rbf, score=0.765625, total=   0.0s\n",
      "[CV] C=1, gamma=0.0005, kernel=rbf ...................................\n",
      "[CV] .... C=1, gamma=0.0005, kernel=rbf, score=0.765625, total=   0.0s\n",
      "[CV] C=1, gamma=0.0005, kernel=rbf ...................................\n",
      "[CV] .... C=1, gamma=0.0005, kernel=rbf, score=0.765625, total=   0.0s\n",
      "[CV] C=1, gamma=0.0005, kernel=rbf ...................................\n",
      "[CV] .... C=1, gamma=0.0005, kernel=rbf, score=0.765625, total=   0.0s\n",
      "[CV] C=1, gamma=0.0005, kernel=rbf ...................................\n",
      "[CV] .... C=1, gamma=0.0005, kernel=rbf, score=0.765625, total=   0.0s\n",
      "[CV] C=1, gamma=0.0005, kernel=rbf ...................................\n",
      "[CV] .... C=1, gamma=0.0005, kernel=rbf, score=0.765625, total=   0.0s\n",
      "[CV] C=1, gamma=0.0005, kernel=rbf ...................................\n",
      "[CV]  C=1, gamma=0.0005, kernel=rbf, score=0.7637795275590551, total=   0.0s\n",
      "[CV] C=1, gamma=0.0005, kernel=rbf ...................................\n",
      "[CV]  C=1, gamma=0.0005, kernel=rbf, score=0.7637795275590551, total=   0.0s\n",
      "[CV] C=1, gamma=0.001, kernel=linear .................................\n",
      "[CV]  C=1, gamma=0.001, kernel=linear, score=0.7906976744186046, total=   0.0s\n",
      "[CV] C=1, gamma=0.001, kernel=linear .................................\n",
      "[CV] .. C=1, gamma=0.001, kernel=linear, score=0.828125, total=   0.0s\n",
      "[CV] C=1, gamma=0.001, kernel=linear .................................\n",
      "[CV] .... C=1, gamma=0.001, kernel=linear, score=0.8125, total=   0.0s\n",
      "[CV] C=1, gamma=0.001, kernel=linear .................................\n",
      "[CV] .. C=1, gamma=0.001, kernel=linear, score=0.796875, total=   0.0s\n",
      "[CV] C=1, gamma=0.001, kernel=linear .................................\n",
      "[CV] .. C=1, gamma=0.001, kernel=linear, score=0.796875, total=   0.0s\n",
      "[CV] C=1, gamma=0.001, kernel=linear .................................\n",
      "[CV] . C=1, gamma=0.001, kernel=linear, score=0.8046875, total=   0.0s\n",
      "[CV] C=1, gamma=0.001, kernel=linear .................................\n",
      "[CV] . C=1, gamma=0.001, kernel=linear, score=0.7265625, total=   0.0s\n",
      "[CV] C=1, gamma=0.001, kernel=linear .................................\n",
      "[CV] .. C=1, gamma=0.001, kernel=linear, score=0.828125, total=   0.0s\n",
      "[CV] C=1, gamma=0.001, kernel=linear .................................\n",
      "[CV]  C=1, gamma=0.001, kernel=linear, score=0.8188976377952756, total=   0.0s\n",
      "[CV] C=1, gamma=0.001, kernel=linear .................................\n",
      "[CV]  C=1, gamma=0.001, kernel=linear, score=0.8267716535433071, total=   0.0s\n",
      "[CV] C=1, gamma=0.001, kernel=rbf ....................................\n",
      "[CV]  C=1, gamma=0.001, kernel=rbf, score=0.7596899224806202, total=   0.0s\n",
      "[CV] C=1, gamma=0.001, kernel=rbf ....................................\n",
      "[CV] ..... C=1, gamma=0.001, kernel=rbf, score=0.765625, total=   0.0s\n",
      "[CV] C=1, gamma=0.001, kernel=rbf ....................................\n",
      "[CV] ..... C=1, gamma=0.001, kernel=rbf, score=0.765625, total=   0.0s\n",
      "[CV] C=1, gamma=0.001, kernel=rbf ....................................\n",
      "[CV] ..... C=1, gamma=0.001, kernel=rbf, score=0.765625, total=   0.0s\n",
      "[CV] C=1, gamma=0.001, kernel=rbf ....................................\n",
      "[CV] ..... C=1, gamma=0.001, kernel=rbf, score=0.765625, total=   0.0s\n",
      "[CV] C=1, gamma=0.001, kernel=rbf ....................................\n",
      "[CV] ..... C=1, gamma=0.001, kernel=rbf, score=0.765625, total=   0.0s\n",
      "[CV] C=1, gamma=0.001, kernel=rbf ....................................\n",
      "[CV] ..... C=1, gamma=0.001, kernel=rbf, score=0.765625, total=   0.0s\n",
      "[CV] C=1, gamma=0.001, kernel=rbf ....................................\n",
      "[CV] ..... C=1, gamma=0.001, kernel=rbf, score=0.765625, total=   0.0s\n",
      "[CV] C=1, gamma=0.001, kernel=rbf ....................................\n",
      "[CV]  C=1, gamma=0.001, kernel=rbf, score=0.7637795275590551, total=   0.0s\n",
      "[CV] C=1, gamma=0.001, kernel=rbf ....................................\n",
      "[CV]  C=1, gamma=0.001, kernel=rbf, score=0.7637795275590551, total=   0.0s\n",
      "[CV] C=1, gamma=0.005, kernel=linear .................................\n",
      "[CV]  C=1, gamma=0.005, kernel=linear, score=0.7906976744186046, total=   0.0s\n",
      "[CV] C=1, gamma=0.005, kernel=linear .................................\n",
      "[CV] .. C=1, gamma=0.005, kernel=linear, score=0.828125, total=   0.0s\n",
      "[CV] C=1, gamma=0.005, kernel=linear .................................\n"
     ]
    },
    {
     "name": "stdout",
     "output_type": "stream",
     "text": [
      "[CV] .... C=1, gamma=0.005, kernel=linear, score=0.8125, total=   0.0s\n",
      "[CV] C=1, gamma=0.005, kernel=linear .................................\n",
      "[CV] .. C=1, gamma=0.005, kernel=linear, score=0.796875, total=   0.0s\n",
      "[CV] C=1, gamma=0.005, kernel=linear .................................\n",
      "[CV] .. C=1, gamma=0.005, kernel=linear, score=0.796875, total=   0.0s\n",
      "[CV] C=1, gamma=0.005, kernel=linear .................................\n",
      "[CV] . C=1, gamma=0.005, kernel=linear, score=0.8046875, total=   0.0s\n",
      "[CV] C=1, gamma=0.005, kernel=linear .................................\n",
      "[CV] . C=1, gamma=0.005, kernel=linear, score=0.7265625, total=   0.0s\n",
      "[CV] C=1, gamma=0.005, kernel=linear .................................\n",
      "[CV] .. C=1, gamma=0.005, kernel=linear, score=0.828125, total=   0.0s\n",
      "[CV] C=1, gamma=0.005, kernel=linear .................................\n",
      "[CV]  C=1, gamma=0.005, kernel=linear, score=0.8188976377952756, total=   0.0s\n",
      "[CV] C=1, gamma=0.005, kernel=linear .................................\n",
      "[CV]  C=1, gamma=0.005, kernel=linear, score=0.8267716535433071, total=   0.0s\n",
      "[CV] C=1, gamma=0.005, kernel=rbf ....................................\n",
      "[CV]  C=1, gamma=0.005, kernel=rbf, score=0.7751937984496124, total=   0.0s\n",
      "[CV] C=1, gamma=0.005, kernel=rbf ....................................\n",
      "[CV] ..... C=1, gamma=0.005, kernel=rbf, score=0.765625, total=   0.0s\n",
      "[CV] C=1, gamma=0.005, kernel=rbf ....................................\n",
      "[CV] ..... C=1, gamma=0.005, kernel=rbf, score=0.765625, total=   0.0s\n",
      "[CV] C=1, gamma=0.005, kernel=rbf ....................................\n",
      "[CV] ..... C=1, gamma=0.005, kernel=rbf, score=0.765625, total=   0.0s\n",
      "[CV] C=1, gamma=0.005, kernel=rbf ....................................\n",
      "[CV] .... C=1, gamma=0.005, kernel=rbf, score=0.7734375, total=   0.0s\n",
      "[CV] C=1, gamma=0.005, kernel=rbf ....................................\n",
      "[CV] ..... C=1, gamma=0.005, kernel=rbf, score=0.765625, total=   0.0s\n",
      "[CV] C=1, gamma=0.005, kernel=rbf ....................................\n",
      "[CV] ..... C=1, gamma=0.005, kernel=rbf, score=0.796875, total=   0.0s\n",
      "[CV] C=1, gamma=0.005, kernel=rbf ....................................\n",
      "[CV] ..... C=1, gamma=0.005, kernel=rbf, score=0.765625, total=   0.0s\n",
      "[CV] C=1, gamma=0.005, kernel=rbf ....................................\n",
      "[CV]  C=1, gamma=0.005, kernel=rbf, score=0.7716535433070866, total=   0.0s\n",
      "[CV] C=1, gamma=0.005, kernel=rbf ....................................\n",
      "[CV]  C=1, gamma=0.005, kernel=rbf, score=0.7637795275590551, total=   0.0s\n",
      "[CV] C=10, gamma=0.0001, kernel=linear ...............................\n",
      "[CV]  C=10, gamma=0.0001, kernel=linear, score=0.7906976744186046, total=   0.1s\n",
      "[CV] C=10, gamma=0.0001, kernel=linear ...............................\n",
      "[CV] . C=10, gamma=0.0001, kernel=linear, score=0.84375, total=   0.1s\n",
      "[CV] C=10, gamma=0.0001, kernel=linear ...............................\n",
      "[CV] .. C=10, gamma=0.0001, kernel=linear, score=0.8125, total=   0.2s\n",
      "[CV] C=10, gamma=0.0001, kernel=linear ...............................\n",
      "[CV]  C=10, gamma=0.0001, kernel=linear, score=0.796875, total=   0.2s\n",
      "[CV] C=10, gamma=0.0001, kernel=linear ...............................\n",
      "[CV]  C=10, gamma=0.0001, kernel=linear, score=0.796875, total=   0.1s\n",
      "[CV] C=10, gamma=0.0001, kernel=linear ...............................\n",
      "[CV] .. C=10, gamma=0.0001, kernel=linear, score=0.8125, total=   0.2s\n",
      "[CV] C=10, gamma=0.0001, kernel=linear ...............................\n",
      "[CV]  C=10, gamma=0.0001, kernel=linear, score=0.7265625, total=   0.1s\n",
      "[CV] C=10, gamma=0.0001, kernel=linear ...............................\n",
      "[CV]  C=10, gamma=0.0001, kernel=linear, score=0.828125, total=   0.1s\n",
      "[CV] C=10, gamma=0.0001, kernel=linear ...............................\n",
      "[CV]  C=10, gamma=0.0001, kernel=linear, score=0.8188976377952756, total=   0.1s\n",
      "[CV] C=10, gamma=0.0001, kernel=linear ...............................\n",
      "[CV]  C=10, gamma=0.0001, kernel=linear, score=0.8267716535433071, total=   0.2s\n",
      "[CV] C=10, gamma=0.0001, kernel=rbf ..................................\n",
      "[CV]  C=10, gamma=0.0001, kernel=rbf, score=0.7596899224806202, total=   0.0s\n",
      "[CV] C=10, gamma=0.0001, kernel=rbf ..................................\n",
      "[CV] ... C=10, gamma=0.0001, kernel=rbf, score=0.765625, total=   0.0s\n",
      "[CV] C=10, gamma=0.0001, kernel=rbf ..................................\n",
      "[CV] ... C=10, gamma=0.0001, kernel=rbf, score=0.765625, total=   0.0s\n",
      "[CV] C=10, gamma=0.0001, kernel=rbf ..................................\n",
      "[CV] ... C=10, gamma=0.0001, kernel=rbf, score=0.765625, total=   0.0s\n",
      "[CV] C=10, gamma=0.0001, kernel=rbf ..................................\n",
      "[CV] ... C=10, gamma=0.0001, kernel=rbf, score=0.765625, total=   0.0s\n",
      "[CV] C=10, gamma=0.0001, kernel=rbf ..................................\n",
      "[CV] ... C=10, gamma=0.0001, kernel=rbf, score=0.765625, total=   0.0s\n",
      "[CV] C=10, gamma=0.0001, kernel=rbf ..................................\n",
      "[CV] ... C=10, gamma=0.0001, kernel=rbf, score=0.765625, total=   0.0s\n",
      "[CV] C=10, gamma=0.0001, kernel=rbf ..................................\n",
      "[CV] ... C=10, gamma=0.0001, kernel=rbf, score=0.765625, total=   0.0s\n",
      "[CV] C=10, gamma=0.0001, kernel=rbf ..................................\n",
      "[CV]  C=10, gamma=0.0001, kernel=rbf, score=0.7637795275590551, total=   0.0s\n",
      "[CV] C=10, gamma=0.0001, kernel=rbf ..................................\n",
      "[CV]  C=10, gamma=0.0001, kernel=rbf, score=0.7637795275590551, total=   0.0s\n",
      "[CV] C=10, gamma=0.0005, kernel=linear ...............................\n",
      "[CV]  C=10, gamma=0.0005, kernel=linear, score=0.7906976744186046, total=   0.2s\n",
      "[CV] C=10, gamma=0.0005, kernel=linear ...............................\n",
      "[CV] . C=10, gamma=0.0005, kernel=linear, score=0.84375, total=   0.2s\n",
      "[CV] C=10, gamma=0.0005, kernel=linear ...............................\n",
      "[CV] .. C=10, gamma=0.0005, kernel=linear, score=0.8125, total=   0.2s\n",
      "[CV] C=10, gamma=0.0005, kernel=linear ...............................\n",
      "[CV]  C=10, gamma=0.0005, kernel=linear, score=0.796875, total=   0.2s\n",
      "[CV] C=10, gamma=0.0005, kernel=linear ...............................\n",
      "[CV]  C=10, gamma=0.0005, kernel=linear, score=0.796875, total=   0.2s\n",
      "[CV] C=10, gamma=0.0005, kernel=linear ...............................\n",
      "[CV] .. C=10, gamma=0.0005, kernel=linear, score=0.8125, total=   0.2s\n",
      "[CV] C=10, gamma=0.0005, kernel=linear ...............................\n",
      "[CV]  C=10, gamma=0.0005, kernel=linear, score=0.7265625, total=   0.2s\n",
      "[CV] C=10, gamma=0.0005, kernel=linear ...............................\n",
      "[CV]  C=10, gamma=0.0005, kernel=linear, score=0.828125, total=   0.2s\n",
      "[CV] C=10, gamma=0.0005, kernel=linear ...............................\n",
      "[CV]  C=10, gamma=0.0005, kernel=linear, score=0.8188976377952756, total=   0.2s\n",
      "[CV] C=10, gamma=0.0005, kernel=linear ...............................\n",
      "[CV]  C=10, gamma=0.0005, kernel=linear, score=0.8267716535433071, total=   0.2s\n",
      "[CV] C=10, gamma=0.0005, kernel=rbf ..................................\n",
      "[CV]  C=10, gamma=0.0005, kernel=rbf, score=0.7674418604651163, total=   0.0s\n",
      "[CV] C=10, gamma=0.0005, kernel=rbf ..................................\n",
      "[CV] ... C=10, gamma=0.0005, kernel=rbf, score=0.765625, total=   0.0s\n",
      "[CV] C=10, gamma=0.0005, kernel=rbf ..................................\n",
      "[CV] .. C=10, gamma=0.0005, kernel=rbf, score=0.7734375, total=   0.0s\n",
      "[CV] C=10, gamma=0.0005, kernel=rbf ..................................\n",
      "[CV] ... C=10, gamma=0.0005, kernel=rbf, score=0.765625, total=   0.0s\n",
      "[CV] C=10, gamma=0.0005, kernel=rbf ..................................\n",
      "[CV] .. C=10, gamma=0.0005, kernel=rbf, score=0.7734375, total=   0.0s\n",
      "[CV] C=10, gamma=0.0005, kernel=rbf ..................................\n",
      "[CV] ... C=10, gamma=0.0005, kernel=rbf, score=0.765625, total=   0.0s\n",
      "[CV] C=10, gamma=0.0005, kernel=rbf ..................................\n",
      "[CV] .... C=10, gamma=0.0005, kernel=rbf, score=0.78125, total=   0.0s\n",
      "[CV] C=10, gamma=0.0005, kernel=rbf ..................................\n",
      "[CV] ... C=10, gamma=0.0005, kernel=rbf, score=0.765625, total=   0.0s\n",
      "[CV] C=10, gamma=0.0005, kernel=rbf ..................................\n",
      "[CV]  C=10, gamma=0.0005, kernel=rbf, score=0.7716535433070866, total=   0.0s\n",
      "[CV] C=10, gamma=0.0005, kernel=rbf ..................................\n",
      "[CV]  C=10, gamma=0.0005, kernel=rbf, score=0.7637795275590551, total=   0.0s\n",
      "[CV] C=10, gamma=0.001, kernel=linear ................................\n"
     ]
    },
    {
     "name": "stdout",
     "output_type": "stream",
     "text": [
      "[CV]  C=10, gamma=0.001, kernel=linear, score=0.7906976744186046, total=   0.2s\n",
      "[CV] C=10, gamma=0.001, kernel=linear ................................\n",
      "[CV] .. C=10, gamma=0.001, kernel=linear, score=0.84375, total=   0.2s\n",
      "[CV] C=10, gamma=0.001, kernel=linear ................................\n",
      "[CV] ... C=10, gamma=0.001, kernel=linear, score=0.8125, total=   0.2s\n",
      "[CV] C=10, gamma=0.001, kernel=linear ................................\n",
      "[CV] . C=10, gamma=0.001, kernel=linear, score=0.796875, total=   0.2s\n",
      "[CV] C=10, gamma=0.001, kernel=linear ................................\n",
      "[CV] . C=10, gamma=0.001, kernel=linear, score=0.796875, total=   0.2s\n",
      "[CV] C=10, gamma=0.001, kernel=linear ................................\n",
      "[CV] ... C=10, gamma=0.001, kernel=linear, score=0.8125, total=   0.2s\n",
      "[CV] C=10, gamma=0.001, kernel=linear ................................\n",
      "[CV]  C=10, gamma=0.001, kernel=linear, score=0.7265625, total=   0.2s\n",
      "[CV] C=10, gamma=0.001, kernel=linear ................................\n",
      "[CV] . C=10, gamma=0.001, kernel=linear, score=0.828125, total=   0.2s\n",
      "[CV] C=10, gamma=0.001, kernel=linear ................................\n",
      "[CV]  C=10, gamma=0.001, kernel=linear, score=0.8188976377952756, total=   0.2s\n",
      "[CV] C=10, gamma=0.001, kernel=linear ................................\n",
      "[CV]  C=10, gamma=0.001, kernel=linear, score=0.8267716535433071, total=   0.2s\n",
      "[CV] C=10, gamma=0.001, kernel=rbf ...................................\n",
      "[CV]  C=10, gamma=0.001, kernel=rbf, score=0.7829457364341085, total=   0.0s\n",
      "[CV] C=10, gamma=0.001, kernel=rbf ...................................\n",
      "[CV] .... C=10, gamma=0.001, kernel=rbf, score=0.796875, total=   0.0s\n",
      "[CV] C=10, gamma=0.001, kernel=rbf ...................................\n",
      "[CV] ... C=10, gamma=0.001, kernel=rbf, score=0.8359375, total=   0.0s\n",
      "[CV] C=10, gamma=0.001, kernel=rbf ...................................\n",
      "[CV] .... C=10, gamma=0.001, kernel=rbf, score=0.796875, total=   0.0s\n",
      "[CV] C=10, gamma=0.001, kernel=rbf ...................................\n",
      "[CV] ... C=10, gamma=0.001, kernel=rbf, score=0.8203125, total=   0.0s\n",
      "[CV] C=10, gamma=0.001, kernel=rbf ...................................\n",
      "[CV] .... C=10, gamma=0.001, kernel=rbf, score=0.828125, total=   0.0s\n",
      "[CV] C=10, gamma=0.001, kernel=rbf ...................................\n",
      "[CV] ... C=10, gamma=0.001, kernel=rbf, score=0.7578125, total=   0.0s\n",
      "[CV] C=10, gamma=0.001, kernel=rbf ...................................\n",
      "[CV] .... C=10, gamma=0.001, kernel=rbf, score=0.828125, total=   0.0s\n",
      "[CV] C=10, gamma=0.001, kernel=rbf ...................................\n",
      "[CV]  C=10, gamma=0.001, kernel=rbf, score=0.8031496062992126, total=   0.0s\n",
      "[CV] C=10, gamma=0.001, kernel=rbf ...................................\n",
      "[CV]  C=10, gamma=0.001, kernel=rbf, score=0.8031496062992126, total=   0.0s\n",
      "[CV] C=10, gamma=0.005, kernel=linear ................................\n",
      "[CV]  C=10, gamma=0.005, kernel=linear, score=0.7906976744186046, total=   0.2s\n",
      "[CV] C=10, gamma=0.005, kernel=linear ................................\n",
      "[CV] .. C=10, gamma=0.005, kernel=linear, score=0.84375, total=   0.2s\n",
      "[CV] C=10, gamma=0.005, kernel=linear ................................\n",
      "[CV] ... C=10, gamma=0.005, kernel=linear, score=0.8125, total=   0.2s\n",
      "[CV] C=10, gamma=0.005, kernel=linear ................................\n",
      "[CV] . C=10, gamma=0.005, kernel=linear, score=0.796875, total=   0.2s\n",
      "[CV] C=10, gamma=0.005, kernel=linear ................................\n",
      "[CV] . C=10, gamma=0.005, kernel=linear, score=0.796875, total=   0.2s\n",
      "[CV] C=10, gamma=0.005, kernel=linear ................................\n",
      "[CV] ... C=10, gamma=0.005, kernel=linear, score=0.8125, total=   0.2s\n",
      "[CV] C=10, gamma=0.005, kernel=linear ................................\n",
      "[CV]  C=10, gamma=0.005, kernel=linear, score=0.7265625, total=   0.2s\n",
      "[CV] C=10, gamma=0.005, kernel=linear ................................\n",
      "[CV] . C=10, gamma=0.005, kernel=linear, score=0.828125, total=   0.2s\n",
      "[CV] C=10, gamma=0.005, kernel=linear ................................\n",
      "[CV]  C=10, gamma=0.005, kernel=linear, score=0.8188976377952756, total=   0.2s\n",
      "[CV] C=10, gamma=0.005, kernel=linear ................................\n",
      "[CV]  C=10, gamma=0.005, kernel=linear, score=0.8267716535433071, total=   0.2s\n",
      "[CV] C=10, gamma=0.005, kernel=rbf ...................................\n",
      "[CV]  C=10, gamma=0.005, kernel=rbf, score=0.813953488372093, total=   0.0s\n",
      "[CV] C=10, gamma=0.005, kernel=rbf ...................................\n",
      "[CV] .... C=10, gamma=0.005, kernel=rbf, score=0.828125, total=   0.0s\n",
      "[CV] C=10, gamma=0.005, kernel=rbf ...................................\n",
      "[CV] ... C=10, gamma=0.005, kernel=rbf, score=0.8203125, total=   0.0s\n",
      "[CV] C=10, gamma=0.005, kernel=rbf ...................................\n",
      "[CV] ... C=10, gamma=0.005, kernel=rbf, score=0.8046875, total=   0.0s\n",
      "[CV] C=10, gamma=0.005, kernel=rbf ...................................\n",
      "[CV] ... C=10, gamma=0.005, kernel=rbf, score=0.8203125, total=   0.0s\n",
      "[CV] C=10, gamma=0.005, kernel=rbf ...................................\n",
      "[CV] ... C=10, gamma=0.005, kernel=rbf, score=0.8359375, total=   0.0s\n",
      "[CV] C=10, gamma=0.005, kernel=rbf ...................................\n",
      "[CV] ... C=10, gamma=0.005, kernel=rbf, score=0.7578125, total=   0.0s\n",
      "[CV] C=10, gamma=0.005, kernel=rbf ...................................\n",
      "[CV] ... C=10, gamma=0.005, kernel=rbf, score=0.8203125, total=   0.0s\n",
      "[CV] C=10, gamma=0.005, kernel=rbf ...................................\n",
      "[CV]  C=10, gamma=0.005, kernel=rbf, score=0.8188976377952756, total=   0.0s\n",
      "[CV] C=10, gamma=0.005, kernel=rbf ...................................\n",
      "[CV]  C=10, gamma=0.005, kernel=rbf, score=0.8188976377952756, total=   0.0s\n",
      "[CV] C=100, gamma=0.0001, kernel=linear ..............................\n",
      "[CV]  C=100, gamma=0.0001, kernel=linear, score=0.7906976744186046, total=   1.1s\n",
      "[CV] C=100, gamma=0.0001, kernel=linear ..............................\n",
      "[CV]  C=100, gamma=0.0001, kernel=linear, score=0.84375, total=   1.2s\n",
      "[CV] C=100, gamma=0.0001, kernel=linear ..............................\n",
      "[CV]  C=100, gamma=0.0001, kernel=linear, score=0.8203125, total=   1.2s\n",
      "[CV] C=100, gamma=0.0001, kernel=linear ..............................\n",
      "[CV]  C=100, gamma=0.0001, kernel=linear, score=0.8046875, total=   1.3s\n",
      "[CV] C=100, gamma=0.0001, kernel=linear ..............................\n",
      "[CV]  C=100, gamma=0.0001, kernel=linear, score=0.796875, total=   1.0s\n",
      "[CV] C=100, gamma=0.0001, kernel=linear ..............................\n",
      "[CV] . C=100, gamma=0.0001, kernel=linear, score=0.8125, total=   1.1s\n",
      "[CV] C=100, gamma=0.0001, kernel=linear ..............................\n",
      "[CV]  C=100, gamma=0.0001, kernel=linear, score=0.734375, total=   1.0s\n",
      "[CV] C=100, gamma=0.0001, kernel=linear ..............................\n",
      "[CV]  C=100, gamma=0.0001, kernel=linear, score=0.828125, total=   1.3s\n",
      "[CV] C=100, gamma=0.0001, kernel=linear ..............................\n",
      "[CV]  C=100, gamma=0.0001, kernel=linear, score=0.8188976377952756, total=   1.1s\n",
      "[CV] C=100, gamma=0.0001, kernel=linear ..............................\n",
      "[CV]  C=100, gamma=0.0001, kernel=linear, score=0.8267716535433071, total=   1.3s\n",
      "[CV] C=100, gamma=0.0001, kernel=rbf .................................\n",
      "[CV]  C=100, gamma=0.0001, kernel=rbf, score=0.7829457364341085, total=   0.0s\n",
      "[CV] C=100, gamma=0.0001, kernel=rbf .................................\n",
      "[CV] .. C=100, gamma=0.0001, kernel=rbf, score=0.796875, total=   0.0s\n",
      "[CV] C=100, gamma=0.0001, kernel=rbf .................................\n",
      "[CV] . C=100, gamma=0.0001, kernel=rbf, score=0.8359375, total=   0.0s\n",
      "[CV] C=100, gamma=0.0001, kernel=rbf .................................\n",
      "[CV] .... C=100, gamma=0.0001, kernel=rbf, score=0.8125, total=   0.0s\n",
      "[CV] C=100, gamma=0.0001, kernel=rbf .................................\n",
      "[CV] . C=100, gamma=0.0001, kernel=rbf, score=0.8203125, total=   0.0s\n",
      "[CV] C=100, gamma=0.0001, kernel=rbf .................................\n",
      "[CV] . C=100, gamma=0.0001, kernel=rbf, score=0.8203125, total=   0.0s\n",
      "[CV] C=100, gamma=0.0001, kernel=rbf .................................\n",
      "[CV] ...... C=100, gamma=0.0001, kernel=rbf, score=0.75, total=   0.0s\n",
      "[CV] C=100, gamma=0.0001, kernel=rbf .................................\n"
     ]
    },
    {
     "name": "stdout",
     "output_type": "stream",
     "text": [
      "[CV] .. C=100, gamma=0.0001, kernel=rbf, score=0.828125, total=   0.0s\n",
      "[CV] C=100, gamma=0.0001, kernel=rbf .................................\n",
      "[CV]  C=100, gamma=0.0001, kernel=rbf, score=0.8110236220472441, total=   0.0s\n",
      "[CV] C=100, gamma=0.0001, kernel=rbf .................................\n",
      "[CV]  C=100, gamma=0.0001, kernel=rbf, score=0.8031496062992126, total=   0.0s\n",
      "[CV] C=100, gamma=0.0005, kernel=linear ..............................\n",
      "[CV]  C=100, gamma=0.0005, kernel=linear, score=0.7906976744186046, total=   1.1s\n",
      "[CV] C=100, gamma=0.0005, kernel=linear ..............................\n",
      "[CV]  C=100, gamma=0.0005, kernel=linear, score=0.84375, total=   1.2s\n",
      "[CV] C=100, gamma=0.0005, kernel=linear ..............................\n",
      "[CV]  C=100, gamma=0.0005, kernel=linear, score=0.8203125, total=   1.2s\n",
      "[CV] C=100, gamma=0.0005, kernel=linear ..............................\n",
      "[CV]  C=100, gamma=0.0005, kernel=linear, score=0.8046875, total=   1.5s\n",
      "[CV] C=100, gamma=0.0005, kernel=linear ..............................\n",
      "[CV]  C=100, gamma=0.0005, kernel=linear, score=0.796875, total=   1.2s\n",
      "[CV] C=100, gamma=0.0005, kernel=linear ..............................\n",
      "[CV] . C=100, gamma=0.0005, kernel=linear, score=0.8125, total=   1.3s\n",
      "[CV] C=100, gamma=0.0005, kernel=linear ..............................\n",
      "[CV]  C=100, gamma=0.0005, kernel=linear, score=0.734375, total=   1.1s\n",
      "[CV] C=100, gamma=0.0005, kernel=linear ..............................\n",
      "[CV]  C=100, gamma=0.0005, kernel=linear, score=0.828125, total=   1.3s\n",
      "[CV] C=100, gamma=0.0005, kernel=linear ..............................\n",
      "[CV]  C=100, gamma=0.0005, kernel=linear, score=0.8188976377952756, total=   1.1s\n",
      "[CV] C=100, gamma=0.0005, kernel=linear ..............................\n",
      "[CV]  C=100, gamma=0.0005, kernel=linear, score=0.8267716535433071, total=   1.2s\n",
      "[CV] C=100, gamma=0.0005, kernel=rbf .................................\n",
      "[CV]  C=100, gamma=0.0005, kernel=rbf, score=0.8062015503875969, total=   0.0s\n",
      "[CV] C=100, gamma=0.0005, kernel=rbf .................................\n",
      "[CV] . C=100, gamma=0.0005, kernel=rbf, score=0.8359375, total=   0.0s\n",
      "[CV] C=100, gamma=0.0005, kernel=rbf .................................\n",
      "[CV] .. C=100, gamma=0.0005, kernel=rbf, score=0.796875, total=   0.0s\n",
      "[CV] C=100, gamma=0.0005, kernel=rbf .................................\n",
      "[CV] .... C=100, gamma=0.0005, kernel=rbf, score=0.8125, total=   0.0s\n",
      "[CV] C=100, gamma=0.0005, kernel=rbf .................................\n",
      "[CV] .... C=100, gamma=0.0005, kernel=rbf, score=0.8125, total=   0.0s\n",
      "[CV] C=100, gamma=0.0005, kernel=rbf .................................\n",
      "[CV] . C=100, gamma=0.0005, kernel=rbf, score=0.8046875, total=   0.0s\n",
      "[CV] C=100, gamma=0.0005, kernel=rbf .................................\n",
      "[CV] . C=100, gamma=0.0005, kernel=rbf, score=0.7421875, total=   0.0s\n",
      "[CV] C=100, gamma=0.0005, kernel=rbf .................................\n",
      "[CV] . C=100, gamma=0.0005, kernel=rbf, score=0.8359375, total=   0.0s\n",
      "[CV] C=100, gamma=0.0005, kernel=rbf .................................\n",
      "[CV]  C=100, gamma=0.0005, kernel=rbf, score=0.8188976377952756, total=   0.0s\n",
      "[CV] C=100, gamma=0.0005, kernel=rbf .................................\n",
      "[CV]  C=100, gamma=0.0005, kernel=rbf, score=0.8188976377952756, total=   0.0s\n",
      "[CV] C=100, gamma=0.001, kernel=linear ...............................\n",
      "[CV]  C=100, gamma=0.001, kernel=linear, score=0.7906976744186046, total=   1.1s\n",
      "[CV] C=100, gamma=0.001, kernel=linear ...............................\n",
      "[CV] . C=100, gamma=0.001, kernel=linear, score=0.84375, total=   1.2s\n",
      "[CV] C=100, gamma=0.001, kernel=linear ...............................\n",
      "[CV]  C=100, gamma=0.001, kernel=linear, score=0.8203125, total=   1.2s\n",
      "[CV] C=100, gamma=0.001, kernel=linear ...............................\n",
      "[CV]  C=100, gamma=0.001, kernel=linear, score=0.8046875, total=   1.5s\n",
      "[CV] C=100, gamma=0.001, kernel=linear ...............................\n",
      "[CV]  C=100, gamma=0.001, kernel=linear, score=0.796875, total=   1.1s\n",
      "[CV] C=100, gamma=0.001, kernel=linear ...............................\n",
      "[CV] .. C=100, gamma=0.001, kernel=linear, score=0.8125, total=   1.3s\n",
      "[CV] C=100, gamma=0.001, kernel=linear ...............................\n",
      "[CV]  C=100, gamma=0.001, kernel=linear, score=0.734375, total=   1.1s\n",
      "[CV] C=100, gamma=0.001, kernel=linear ...............................\n",
      "[CV]  C=100, gamma=0.001, kernel=linear, score=0.828125, total=   1.3s\n",
      "[CV] C=100, gamma=0.001, kernel=linear ...............................\n",
      "[CV]  C=100, gamma=0.001, kernel=linear, score=0.8188976377952756, total=   1.1s\n",
      "[CV] C=100, gamma=0.001, kernel=linear ...............................\n",
      "[CV]  C=100, gamma=0.001, kernel=linear, score=0.8267716535433071, total=   1.2s\n",
      "[CV] C=100, gamma=0.001, kernel=rbf ..................................\n",
      "[CV]  C=100, gamma=0.001, kernel=rbf, score=0.813953488372093, total=   0.0s\n",
      "[CV] C=100, gamma=0.001, kernel=rbf ..................................\n",
      "[CV] ... C=100, gamma=0.001, kernel=rbf, score=0.828125, total=   0.0s\n",
      "[CV] C=100, gamma=0.001, kernel=rbf ..................................\n",
      "[CV] .. C=100, gamma=0.001, kernel=rbf, score=0.8046875, total=   0.0s\n",
      "[CV] C=100, gamma=0.001, kernel=rbf ..................................\n",
      "[CV] .. C=100, gamma=0.001, kernel=rbf, score=0.8046875, total=   0.0s\n",
      "[CV] C=100, gamma=0.001, kernel=rbf ..................................\n",
      "[CV] .. C=100, gamma=0.001, kernel=rbf, score=0.8046875, total=   0.0s\n",
      "[CV] C=100, gamma=0.001, kernel=rbf ..................................\n",
      "[CV] ... C=100, gamma=0.001, kernel=rbf, score=0.828125, total=   0.0s\n",
      "[CV] C=100, gamma=0.001, kernel=rbf ..................................\n",
      "[CV] .. C=100, gamma=0.001, kernel=rbf, score=0.7578125, total=   0.0s\n",
      "[CV] C=100, gamma=0.001, kernel=rbf ..................................\n",
      "[CV] ..... C=100, gamma=0.001, kernel=rbf, score=0.8125, total=   0.0s\n",
      "[CV] C=100, gamma=0.001, kernel=rbf ..................................\n",
      "[CV]  C=100, gamma=0.001, kernel=rbf, score=0.8188976377952756, total=   0.0s\n",
      "[CV] C=100, gamma=0.001, kernel=rbf ..................................\n",
      "[CV]  C=100, gamma=0.001, kernel=rbf, score=0.8188976377952756, total=   0.0s\n",
      "[CV] C=100, gamma=0.005, kernel=linear ...............................\n",
      "[CV]  C=100, gamma=0.005, kernel=linear, score=0.7906976744186046, total=   1.1s\n",
      "[CV] C=100, gamma=0.005, kernel=linear ...............................\n",
      "[CV] . C=100, gamma=0.005, kernel=linear, score=0.84375, total=   1.1s\n",
      "[CV] C=100, gamma=0.005, kernel=linear ...............................\n",
      "[CV]  C=100, gamma=0.005, kernel=linear, score=0.8203125, total=   1.2s\n",
      "[CV] C=100, gamma=0.005, kernel=linear ...............................\n",
      "[CV]  C=100, gamma=0.005, kernel=linear, score=0.8046875, total=   1.4s\n",
      "[CV] C=100, gamma=0.005, kernel=linear ...............................\n",
      "[CV]  C=100, gamma=0.005, kernel=linear, score=0.796875, total=   1.1s\n",
      "[CV] C=100, gamma=0.005, kernel=linear ...............................\n",
      "[CV] .. C=100, gamma=0.005, kernel=linear, score=0.8125, total=   1.3s\n",
      "[CV] C=100, gamma=0.005, kernel=linear ...............................\n",
      "[CV]  C=100, gamma=0.005, kernel=linear, score=0.734375, total=   1.0s\n",
      "[CV] C=100, gamma=0.005, kernel=linear ...............................\n",
      "[CV]  C=100, gamma=0.005, kernel=linear, score=0.828125, total=   1.3s\n",
      "[CV] C=100, gamma=0.005, kernel=linear ...............................\n",
      "[CV]  C=100, gamma=0.005, kernel=linear, score=0.8188976377952756, total=   1.1s\n",
      "[CV] C=100, gamma=0.005, kernel=linear ...............................\n",
      "[CV]  C=100, gamma=0.005, kernel=linear, score=0.8267716535433071, total=   1.2s\n",
      "[CV] C=100, gamma=0.005, kernel=rbf ..................................\n",
      "[CV]  C=100, gamma=0.005, kernel=rbf, score=0.8217054263565892, total=   0.0s\n",
      "[CV] C=100, gamma=0.005, kernel=rbf ..................................\n",
      "[CV] .. C=100, gamma=0.005, kernel=rbf, score=0.8515625, total=   0.1s\n",
      "[CV] C=100, gamma=0.005, kernel=rbf ..................................\n",
      "[CV] .... C=100, gamma=0.005, kernel=rbf, score=0.84375, total=   0.0s\n",
      "[CV] C=100, gamma=0.005, kernel=rbf ..................................\n",
      "[CV] .. C=100, gamma=0.005, kernel=rbf, score=0.8203125, total=   0.0s\n",
      "[CV] C=100, gamma=0.005, kernel=rbf ..................................\n",
      "[CV] ..... C=100, gamma=0.005, kernel=rbf, score=0.8125, total=   0.0s\n",
      "[CV] C=100, gamma=0.005, kernel=rbf ..................................\n",
      "[CV] .... C=100, gamma=0.005, kernel=rbf, score=0.84375, total=   0.0s\n",
      "[CV] C=100, gamma=0.005, kernel=rbf ..................................\n",
      "[CV] .... C=100, gamma=0.005, kernel=rbf, score=0.78125, total=   0.0s\n",
      "[CV] C=100, gamma=0.005, kernel=rbf ..................................\n"
     ]
    },
    {
     "name": "stdout",
     "output_type": "stream",
     "text": [
      "[CV] .. C=100, gamma=0.005, kernel=rbf, score=0.8046875, total=   0.0s\n",
      "[CV] C=100, gamma=0.005, kernel=rbf ..................................\n",
      "[CV]  C=100, gamma=0.005, kernel=rbf, score=0.8267716535433071, total=   0.0s\n",
      "[CV] C=100, gamma=0.005, kernel=rbf ..................................\n",
      "[CV]  C=100, gamma=0.005, kernel=rbf, score=0.84251968503937, total=   0.0s\n",
      "[CV] C=1000, gamma=0.0001, kernel=linear .............................\n",
      "[CV]  C=1000, gamma=0.0001, kernel=linear, score=0.7906976744186046, total=  11.4s\n",
      "[CV] C=1000, gamma=0.0001, kernel=linear .............................\n",
      "[CV]  C=1000, gamma=0.0001, kernel=linear, score=0.84375, total=  12.9s\n",
      "[CV] C=1000, gamma=0.0001, kernel=linear .............................\n",
      "[CV]  C=1000, gamma=0.0001, kernel=linear, score=0.8203125, total=  10.0s\n",
      "[CV] C=1000, gamma=0.0001, kernel=linear .............................\n",
      "[CV]  C=1000, gamma=0.0001, kernel=linear, score=0.796875, total=  13.5s\n",
      "[CV] C=1000, gamma=0.0001, kernel=linear .............................\n",
      "[CV]  C=1000, gamma=0.0001, kernel=linear, score=0.796875, total=  10.1s\n",
      "[CV] C=1000, gamma=0.0001, kernel=linear .............................\n",
      "[CV]  C=1000, gamma=0.0001, kernel=linear, score=0.8125, total=  11.7s\n",
      "[CV] C=1000, gamma=0.0001, kernel=linear .............................\n",
      "[CV]  C=1000, gamma=0.0001, kernel=linear, score=0.7265625, total=  10.9s\n",
      "[CV] C=1000, gamma=0.0001, kernel=linear .............................\n",
      "[CV]  C=1000, gamma=0.0001, kernel=linear, score=0.828125, total=  11.2s\n",
      "[CV] C=1000, gamma=0.0001, kernel=linear .............................\n",
      "[CV]  C=1000, gamma=0.0001, kernel=linear, score=0.8110236220472441, total=   8.6s\n",
      "[CV] C=1000, gamma=0.0001, kernel=linear .............................\n",
      "[CV]  C=1000, gamma=0.0001, kernel=linear, score=0.8267716535433071, total=  11.4s\n",
      "[CV] C=1000, gamma=0.0001, kernel=rbf ................................\n",
      "[CV]  C=1000, gamma=0.0001, kernel=rbf, score=0.7984496124031008, total=   0.0s\n",
      "[CV] C=1000, gamma=0.0001, kernel=rbf ................................\n",
      "[CV]  C=1000, gamma=0.0001, kernel=rbf, score=0.8203125, total=   0.0s\n",
      "[CV] C=1000, gamma=0.0001, kernel=rbf ................................\n",
      "[CV] ... C=1000, gamma=0.0001, kernel=rbf, score=0.8125, total=   0.0s\n",
      "[CV] C=1000, gamma=0.0001, kernel=rbf ................................\n",
      "[CV]  C=1000, gamma=0.0001, kernel=rbf, score=0.8046875, total=   0.0s\n",
      "[CV] C=1000, gamma=0.0001, kernel=rbf ................................\n",
      "[CV] . C=1000, gamma=0.0001, kernel=rbf, score=0.796875, total=   0.0s\n",
      "[CV] C=1000, gamma=0.0001, kernel=rbf ................................\n",
      "[CV]  C=1000, gamma=0.0001, kernel=rbf, score=0.7890625, total=   0.0s\n",
      "[CV] C=1000, gamma=0.0001, kernel=rbf ................................\n",
      "[CV]  C=1000, gamma=0.0001, kernel=rbf, score=0.7265625, total=   0.0s\n",
      "[CV] C=1000, gamma=0.0001, kernel=rbf ................................\n",
      "[CV]  C=1000, gamma=0.0001, kernel=rbf, score=0.8359375, total=   0.0s\n",
      "[CV] C=1000, gamma=0.0001, kernel=rbf ................................\n",
      "[CV]  C=1000, gamma=0.0001, kernel=rbf, score=0.8188976377952756, total=   0.0s\n",
      "[CV] C=1000, gamma=0.0001, kernel=rbf ................................\n",
      "[CV]  C=1000, gamma=0.0001, kernel=rbf, score=0.8188976377952756, total=   0.0s\n",
      "[CV] C=1000, gamma=0.0005, kernel=linear .............................\n",
      "[CV]  C=1000, gamma=0.0005, kernel=linear, score=0.7906976744186046, total=  11.4s\n",
      "[CV] C=1000, gamma=0.0005, kernel=linear .............................\n",
      "[CV]  C=1000, gamma=0.0005, kernel=linear, score=0.84375, total=  13.7s\n",
      "[CV] C=1000, gamma=0.0005, kernel=linear .............................\n",
      "[CV]  C=1000, gamma=0.0005, kernel=linear, score=0.8203125, total=  10.4s\n",
      "[CV] C=1000, gamma=0.0005, kernel=linear .............................\n"
     ]
    }
   ],
   "source": [
    "grid_svc.fit(X_train, y_train)"
   ]
  },
  {
   "cell_type": "code",
   "execution_count": 23,
   "metadata": {},
   "outputs": [
    {
     "name": "stdout",
     "output_type": "stream",
     "text": [
      "{'C': 1000, 'gamma': 0.005, 'kernel': 'rbf'}\n",
      "0.8295543393275997\n"
     ]
    }
   ],
   "source": [
    "#Best parameters for Grid SVC\n",
    "print(grid_svc.best_params_)\n",
    "\n",
    "# List the best score for grid SVC\n",
    "print(grid_svc.best_score_)"
   ]
  },
  {
   "cell_type": "code",
   "execution_count": 24,
   "metadata": {},
   "outputs": [
    {
     "name": "stdout",
     "output_type": "stream",
     "text": [
      "              precision    recall  f1-score   support\n",
      "\n",
      "           0       0.87      0.91      0.89       256\n",
      "           1       0.57      0.45      0.50        64\n",
      "\n",
      "   micro avg       0.82      0.82      0.82       320\n",
      "   macro avg       0.72      0.68      0.70       320\n",
      "weighted avg       0.81      0.82      0.81       320\n",
      "\n"
     ]
    }
   ],
   "source": [
    "#SVC with best parameters\n",
    "svc2 = SVC(C = 100, gamma =  0.005, kernel= 'rbf')\n",
    "svc2.fit(X_train, y_train)\n",
    "pred_svc2 = svc2.predict(X_test)\n",
    "print(classification_report(y_test, pred_svc2))"
   ]
  },
  {
   "cell_type": "markdown",
   "metadata": {},
   "source": [
    "# SVC improves from % to % using Grid Search CV"
   ]
  },
  {
   "cell_type": "code",
   "execution_count": 25,
   "metadata": {},
   "outputs": [],
   "source": [
    "## Cross Validation Score"
   ]
  },
  {
   "cell_type": "code",
   "execution_count": 26,
   "metadata": {},
   "outputs": [
    {
     "name": "stdout",
     "output_type": "stream",
     "text": [
      "rfc has a Cross Validation Score of 0.8764812896752732\n",
      "rfc(best) has a Cross Validation Score of 0.8796183067051212\n"
     ]
    },
    {
     "name": "stderr",
     "output_type": "stream",
     "text": [
      "/anaconda3/lib/python3.7/site-packages/sklearn/svm/base.py:196: FutureWarning: The default value of gamma will change from 'auto' to 'scale' in version 0.22 to account better for unscaled features. Set gamma explicitly to 'auto' or 'scale' to avoid this warning.\n",
      "  \"avoid this warning.\", FutureWarning)\n",
      "/anaconda3/lib/python3.7/site-packages/sklearn/svm/base.py:196: FutureWarning: The default value of gamma will change from 'auto' to 'scale' in version 0.22 to account better for unscaled features. Set gamma explicitly to 'auto' or 'scale' to avoid this warning.\n",
      "  \"avoid this warning.\", FutureWarning)\n",
      "/anaconda3/lib/python3.7/site-packages/sklearn/svm/base.py:196: FutureWarning: The default value of gamma will change from 'auto' to 'scale' in version 0.22 to account better for unscaled features. Set gamma explicitly to 'auto' or 'scale' to avoid this warning.\n",
      "  \"avoid this warning.\", FutureWarning)\n",
      "/anaconda3/lib/python3.7/site-packages/sklearn/svm/base.py:196: FutureWarning: The default value of gamma will change from 'auto' to 'scale' in version 0.22 to account better for unscaled features. Set gamma explicitly to 'auto' or 'scale' to avoid this warning.\n",
      "  \"avoid this warning.\", FutureWarning)\n",
      "/anaconda3/lib/python3.7/site-packages/sklearn/svm/base.py:196: FutureWarning: The default value of gamma will change from 'auto' to 'scale' in version 0.22 to account better for unscaled features. Set gamma explicitly to 'auto' or 'scale' to avoid this warning.\n",
      "  \"avoid this warning.\", FutureWarning)\n",
      "/anaconda3/lib/python3.7/site-packages/sklearn/svm/base.py:196: FutureWarning: The default value of gamma will change from 'auto' to 'scale' in version 0.22 to account better for unscaled features. Set gamma explicitly to 'auto' or 'scale' to avoid this warning.\n",
      "  \"avoid this warning.\", FutureWarning)\n",
      "/anaconda3/lib/python3.7/site-packages/sklearn/svm/base.py:196: FutureWarning: The default value of gamma will change from 'auto' to 'scale' in version 0.22 to account better for unscaled features. Set gamma explicitly to 'auto' or 'scale' to avoid this warning.\n",
      "  \"avoid this warning.\", FutureWarning)\n",
      "/anaconda3/lib/python3.7/site-packages/sklearn/svm/base.py:196: FutureWarning: The default value of gamma will change from 'auto' to 'scale' in version 0.22 to account better for unscaled features. Set gamma explicitly to 'auto' or 'scale' to avoid this warning.\n",
      "  \"avoid this warning.\", FutureWarning)\n",
      "/anaconda3/lib/python3.7/site-packages/sklearn/svm/base.py:196: FutureWarning: The default value of gamma will change from 'auto' to 'scale' in version 0.22 to account better for unscaled features. Set gamma explicitly to 'auto' or 'scale' to avoid this warning.\n",
      "  \"avoid this warning.\", FutureWarning)\n",
      "/anaconda3/lib/python3.7/site-packages/sklearn/svm/base.py:196: FutureWarning: The default value of gamma will change from 'auto' to 'scale' in version 0.22 to account better for unscaled features. Set gamma explicitly to 'auto' or 'scale' to avoid this warning.\n",
      "  \"avoid this warning.\", FutureWarning)\n"
     ]
    },
    {
     "name": "stdout",
     "output_type": "stream",
     "text": [
      "svc has a Cross Validation Score of 0.8217741904718305\n",
      "svc(best) has a Cross Validation Score of 0.8248809264939266\n"
     ]
    }
   ],
   "source": [
    "#Cross validation for different models\n",
    "from sklearn.model_selection import cross_val_score\n",
    "algs_list = [rfc, rfc2, svc, svc2]\n",
    "algs_names = ['rfc','rfc(best)', 'svc', 'svc(best)']\n",
    "i=0\n",
    "for alg in algs_list:\n",
    "    cross_score = cross_val_score(alg, X = X_train, y = y_train, cv = 10)\n",
    "    print(f\"{algs_names[i]} has a Cross Validation Score of {cross_score.mean()}\")\n",
    "    i +=1"
   ]
  },
  {
   "cell_type": "markdown",
   "metadata": {},
   "source": [
    "## Random forest classifier has accuracy of 87% cross validation score using all data and 88% accuracy using best features. "
   ]
  },
  {
   "cell_type": "code",
   "execution_count": null,
   "metadata": {},
   "outputs": [],
   "source": []
  }
 ],
 "metadata": {
  "kernelspec": {
   "display_name": "Python 3",
   "language": "python",
   "name": "python3"
  },
  "language_info": {
   "codemirror_mode": {
    "name": "ipython",
    "version": 3
   },
   "file_extension": ".py",
   "mimetype": "text/x-python",
   "name": "python",
   "nbconvert_exporter": "python",
   "pygments_lexer": "ipython3",
   "version": "3.7.3"
  }
 },
 "nbformat": 4,
 "nbformat_minor": 2
}
