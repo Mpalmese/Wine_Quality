{
 "cells": [
  {
   "cell_type": "code",
   "execution_count": 1,
   "metadata": {
    "_cell_guid": "87c7b371-53b1-4d4d-bfbd-373d2b84b33a",
    "_uuid": "da5343fb3f6b3942909c94bf8e2add04fd3ff1a3"
   },
   "outputs": [],
   "source": [
    "#Import dependencies\n",
    "import pandas as pd\n",
    "import seaborn as sns\n",
    "import matplotlib.pyplot as plt\n",
    "%matplotlib inline"
   ]
  },
  {
   "cell_type": "code",
   "execution_count": 2,
   "metadata": {
    "_cell_guid": "800f9ff4-79bf-4785-9569-23e1d9b9b03b",
    "_uuid": "07c8409e4eccd80507d9846e8cc70ea42e58cbe6"
   },
   "outputs": [
    {
     "data": {
      "text/html": [
       "<div>\n",
       "<style scoped>\n",
       "    .dataframe tbody tr th:only-of-type {\n",
       "        vertical-align: middle;\n",
       "    }\n",
       "\n",
       "    .dataframe tbody tr th {\n",
       "        vertical-align: top;\n",
       "    }\n",
       "\n",
       "    .dataframe thead th {\n",
       "        text-align: right;\n",
       "    }\n",
       "</style>\n",
       "<table border=\"1\" class=\"dataframe\">\n",
       "  <thead>\n",
       "    <tr style=\"text-align: right;\">\n",
       "      <th></th>\n",
       "      <th>Unnamed: 0</th>\n",
       "      <th>fixed.acidity</th>\n",
       "      <th>volatile.acidity</th>\n",
       "      <th>citric.acid</th>\n",
       "      <th>residual.sugar</th>\n",
       "      <th>chlorides</th>\n",
       "      <th>free.sulfur.dioxide</th>\n",
       "      <th>total.sulfur.dioxide</th>\n",
       "      <th>density</th>\n",
       "      <th>pH</th>\n",
       "      <th>sulphates</th>\n",
       "      <th>alcohol</th>\n",
       "      <th>quality</th>\n",
       "    </tr>\n",
       "  </thead>\n",
       "  <tbody>\n",
       "    <tr>\n",
       "      <th>0</th>\n",
       "      <td>1</td>\n",
       "      <td>7.4</td>\n",
       "      <td>0.70</td>\n",
       "      <td>0.00</td>\n",
       "      <td>1.9</td>\n",
       "      <td>0.076</td>\n",
       "      <td>11.0</td>\n",
       "      <td>34.0</td>\n",
       "      <td>0.9978</td>\n",
       "      <td>3.51</td>\n",
       "      <td>0.56</td>\n",
       "      <td>9.4</td>\n",
       "      <td>5</td>\n",
       "    </tr>\n",
       "    <tr>\n",
       "      <th>1</th>\n",
       "      <td>2</td>\n",
       "      <td>7.8</td>\n",
       "      <td>0.88</td>\n",
       "      <td>0.00</td>\n",
       "      <td>2.6</td>\n",
       "      <td>0.098</td>\n",
       "      <td>25.0</td>\n",
       "      <td>67.0</td>\n",
       "      <td>0.9968</td>\n",
       "      <td>3.20</td>\n",
       "      <td>0.68</td>\n",
       "      <td>9.8</td>\n",
       "      <td>5</td>\n",
       "    </tr>\n",
       "    <tr>\n",
       "      <th>2</th>\n",
       "      <td>3</td>\n",
       "      <td>7.8</td>\n",
       "      <td>0.76</td>\n",
       "      <td>0.04</td>\n",
       "      <td>2.3</td>\n",
       "      <td>0.092</td>\n",
       "      <td>15.0</td>\n",
       "      <td>54.0</td>\n",
       "      <td>0.9970</td>\n",
       "      <td>3.26</td>\n",
       "      <td>0.65</td>\n",
       "      <td>9.8</td>\n",
       "      <td>5</td>\n",
       "    </tr>\n",
       "    <tr>\n",
       "      <th>3</th>\n",
       "      <td>4</td>\n",
       "      <td>11.2</td>\n",
       "      <td>0.28</td>\n",
       "      <td>0.56</td>\n",
       "      <td>1.9</td>\n",
       "      <td>0.075</td>\n",
       "      <td>17.0</td>\n",
       "      <td>60.0</td>\n",
       "      <td>0.9980</td>\n",
       "      <td>3.16</td>\n",
       "      <td>0.58</td>\n",
       "      <td>9.8</td>\n",
       "      <td>6</td>\n",
       "    </tr>\n",
       "    <tr>\n",
       "      <th>4</th>\n",
       "      <td>5</td>\n",
       "      <td>7.4</td>\n",
       "      <td>0.70</td>\n",
       "      <td>0.00</td>\n",
       "      <td>1.9</td>\n",
       "      <td>0.076</td>\n",
       "      <td>11.0</td>\n",
       "      <td>34.0</td>\n",
       "      <td>0.9978</td>\n",
       "      <td>3.51</td>\n",
       "      <td>0.56</td>\n",
       "      <td>9.4</td>\n",
       "      <td>5</td>\n",
       "    </tr>\n",
       "  </tbody>\n",
       "</table>\n",
       "</div>"
      ],
      "text/plain": [
       "   Unnamed: 0  fixed.acidity  volatile.acidity  citric.acid  residual.sugar  \\\n",
       "0           1            7.4              0.70         0.00             1.9   \n",
       "1           2            7.8              0.88         0.00             2.6   \n",
       "2           3            7.8              0.76         0.04             2.3   \n",
       "3           4           11.2              0.28         0.56             1.9   \n",
       "4           5            7.4              0.70         0.00             1.9   \n",
       "\n",
       "   chlorides  free.sulfur.dioxide  total.sulfur.dioxide  density    pH  \\\n",
       "0      0.076                 11.0                  34.0   0.9978  3.51   \n",
       "1      0.098                 25.0                  67.0   0.9968  3.20   \n",
       "2      0.092                 15.0                  54.0   0.9970  3.26   \n",
       "3      0.075                 17.0                  60.0   0.9980  3.16   \n",
       "4      0.076                 11.0                  34.0   0.9978  3.51   \n",
       "\n",
       "   sulphates  alcohol  quality  \n",
       "0       0.56      9.4        5  \n",
       "1       0.68      9.8        5  \n",
       "2       0.65      9.8        5  \n",
       "3       0.58      9.8        6  \n",
       "4       0.56      9.4        5  "
      ]
     },
     "execution_count": 2,
     "metadata": {},
     "output_type": "execute_result"
    }
   ],
   "source": [
    "#Read data\n",
    "wine = pd.read_csv('wineQualityReds.csv')\n",
    "wine.head()"
   ]
  },
  {
   "cell_type": "code",
   "execution_count": 3,
   "metadata": {
    "_cell_guid": "704f4830-5804-436d-9b78-6ca00f5ae510",
    "_uuid": "af141503385967f92d409c5e111e2724b4c9636f"
   },
   "outputs": [
    {
     "name": "stdout",
     "output_type": "stream",
     "text": [
      "<class 'pandas.core.frame.DataFrame'>\n",
      "RangeIndex: 1599 entries, 0 to 1598\n",
      "Data columns (total 13 columns):\n",
      "Unnamed: 0              1599 non-null int64\n",
      "fixed.acidity           1599 non-null float64\n",
      "volatile.acidity        1599 non-null float64\n",
      "citric.acid             1599 non-null float64\n",
      "residual.sugar          1599 non-null float64\n",
      "chlorides               1599 non-null float64\n",
      "free.sulfur.dioxide     1599 non-null float64\n",
      "total.sulfur.dioxide    1599 non-null float64\n",
      "density                 1599 non-null float64\n",
      "pH                      1599 non-null float64\n",
      "sulphates               1599 non-null float64\n",
      "alcohol                 1599 non-null float64\n",
      "quality                 1599 non-null int64\n",
      "dtypes: float64(11), int64(2)\n",
      "memory usage: 162.5 KB\n"
     ]
    }
   ],
   "source": [
    "#Column info\n",
    "wine.info()"
   ]
  },
  {
   "cell_type": "markdown",
   "metadata": {},
   "source": [
    "## Preprocessing Data for performing Machine learning algorithms"
   ]
  },
  {
   "cell_type": "code",
   "execution_count": 4,
   "metadata": {
    "_cell_guid": "33e1c5c0-a65a-4918-8d94-db8e4c521d50",
    "_uuid": "3f082340d1b157391052f0fa20a44aa0105ce987"
   },
   "outputs": [],
   "source": [
    "#Classification - wine rated 7 or higher is good wine\n",
    "bins = (2, 6.5, 8)\n",
    "group_names = ['bad', 'good']\n",
    "wine['quality'] = pd.cut(wine['quality'], bins = bins, labels = group_names)"
   ]
  },
  {
   "cell_type": "code",
   "execution_count": 5,
   "metadata": {
    "_cell_guid": "21a15507-cc97-4c40-835b-51fd79f7cdd9",
    "_uuid": "87127b3c5e9493a9364b3c63401ddb11a51373a1"
   },
   "outputs": [],
   "source": [
    "#Bad = 0 and good = 1 \n",
    "from sklearn.preprocessing import LabelEncoder\n",
    "label_quality = LabelEncoder()\n",
    "wine['quality'] = label_quality.fit_transform(wine['quality'])"
   ]
  },
  {
   "cell_type": "code",
   "execution_count": 6,
   "metadata": {
    "_cell_guid": "faa36f65-7e80-44d7-a4f8-10e482cec684",
    "_uuid": "65a97517331f835cade698b594a7376ea7778eeb"
   },
   "outputs": [
    {
     "data": {
      "text/plain": [
       "0    1382\n",
       "1     217\n",
       "Name: quality, dtype: int64"
      ]
     },
     "execution_count": 6,
     "metadata": {},
     "output_type": "execute_result"
    }
   ],
   "source": [
    "wine['quality'].value_counts()"
   ]
  },
  {
   "cell_type": "code",
   "execution_count": 7,
   "metadata": {
    "_cell_guid": "ba89712a-ad66-4a92-9214-4e35c3802d59",
    "_uuid": "b893deb26bb309c914de12aadf9ad8437deb8358"
   },
   "outputs": [],
   "source": [
    "X = wine.drop('quality', axis = 1)\n",
    "y = wine['quality']"
   ]
  },
  {
   "cell_type": "code",
   "execution_count": 8,
   "metadata": {
    "_cell_guid": "d7703d9a-3397-4c42-9b38-6f341cac1cde",
    "_uuid": "bdfc0f6ba146f947f265fd493e8327366fdb5c9a"
   },
   "outputs": [],
   "source": [
    "#Train Test Split data\n",
    "from sklearn.model_selection import train_test_split\n",
    "X_train, X_test, y_train, y_test = train_test_split(X, y, test_size = 0.2, random_state = 42)"
   ]
  },
  {
   "cell_type": "code",
   "execution_count": 9,
   "metadata": {
    "_cell_guid": "cef31289-9cec-4ab1-afea-2ff34c36fec1",
    "_uuid": "ca68209bcd596b3cfcaf42837e4a6e49b6c12974"
   },
   "outputs": [],
   "source": [
    "#Standard Scaling\n",
    "from sklearn.preprocessing import StandardScaler\n",
    "sc = StandardScaler()"
   ]
  },
  {
   "cell_type": "code",
   "execution_count": 10,
   "metadata": {
    "_cell_guid": "705b8e8a-a6d3-4e93-8b53-7c677b5b88c4",
    "_uuid": "7878194b0c4935904c68a88a91e18f9bbbabbda7"
   },
   "outputs": [
    {
     "name": "stderr",
     "output_type": "stream",
     "text": [
      "C:\\ProgramData\\Anaconda3\\lib\\site-packages\\sklearn\\preprocessing\\data.py:625: DataConversionWarning: Data with input dtype int64, float64 were all converted to float64 by StandardScaler.\n",
      "  return self.partial_fit(X, y)\n",
      "C:\\ProgramData\\Anaconda3\\lib\\site-packages\\sklearn\\base.py:462: DataConversionWarning: Data with input dtype int64, float64 were all converted to float64 by StandardScaler.\n",
      "  return self.fit(X, **fit_params).transform(X)\n",
      "C:\\ProgramData\\Anaconda3\\lib\\site-packages\\sklearn\\preprocessing\\data.py:625: DataConversionWarning: Data with input dtype int64, float64 were all converted to float64 by StandardScaler.\n",
      "  return self.partial_fit(X, y)\n",
      "C:\\ProgramData\\Anaconda3\\lib\\site-packages\\sklearn\\base.py:462: DataConversionWarning: Data with input dtype int64, float64 were all converted to float64 by StandardScaler.\n",
      "  return self.fit(X, **fit_params).transform(X)\n"
     ]
    }
   ],
   "source": [
    "X_train = sc.fit_transform(X_train)\n",
    "X_test = sc.fit_transform(X_test)"
   ]
  },
  {
   "cell_type": "markdown",
   "metadata": {
    "_cell_guid": "0a12868b-8780-43b9-ae70-4c849407aac6",
    "_uuid": "093572f70cda59063611c1c888974e6a863ec7ef"
   },
   "source": [
    "### Random Forest Classifier"
   ]
  },
  {
   "cell_type": "code",
   "execution_count": 11,
   "metadata": {
    "_cell_guid": "f7d2ca14-40fa-4b7c-b902-d47f09214c75",
    "_uuid": "4c2c2a071bde3b44adf031a6807f51b47f8b5eaa"
   },
   "outputs": [],
   "source": [
    "from sklearn.ensemble import RandomForestClassifier\n",
    "rfc = RandomForestClassifier(n_estimators=200)\n",
    "rfc.fit(X_train, y_train)\n",
    "pred_rfc = rfc.predict(X_test)"
   ]
  },
  {
   "cell_type": "code",
   "execution_count": 12,
   "metadata": {
    "_cell_guid": "1cc15e56-0589-4fa3-a4f1-6f5e7b5547b2",
    "_uuid": "61e8a79a7db4fef289b8d4e3b3dd8e1c01756697"
   },
   "outputs": [
    {
     "name": "stdout",
     "output_type": "stream",
     "text": [
      "              precision    recall  f1-score   support\n",
      "\n",
      "           0       0.90      0.96      0.93       273\n",
      "           1       0.61      0.36      0.45        47\n",
      "\n",
      "   micro avg       0.87      0.87      0.87       320\n",
      "   macro avg       0.75      0.66      0.69       320\n",
      "weighted avg       0.85      0.87      0.86       320\n",
      "\n"
     ]
    }
   ],
   "source": [
    "from sklearn.metrics import classification_report\n",
    "print(classification_report(y_test, pred_rfc))"
   ]
  },
  {
   "cell_type": "code",
   "execution_count": 13,
   "metadata": {},
   "outputs": [
    {
     "data": {
      "text/plain": [
       "array([0.0759194 , 0.06528121, 0.10119049, 0.07979014, 0.05876594,\n",
       "       0.0681252 , 0.05529454, 0.07441868, 0.08039054, 0.05378462,\n",
       "       0.12067415, 0.16636508])"
      ]
     },
     "execution_count": 13,
     "metadata": {},
     "output_type": "execute_result"
    }
   ],
   "source": [
    "#Check most important variables\n",
    "rfc.feature_importances_"
   ]
  },
  {
   "cell_type": "code",
   "execution_count": 14,
   "metadata": {},
   "outputs": [],
   "source": [
    "feats = ['volatile.acidity', 'sulphates','alcohol']"
   ]
  },
  {
   "cell_type": "code",
   "execution_count": 15,
   "metadata": {},
   "outputs": [],
   "source": [
    "#Retrain using important variables\n",
    "x_train, x_test, Y_train, Y_test = train_test_split(wine[feats], wine.quality, test_size = 0.2, random_state = 42)"
   ]
  },
  {
   "cell_type": "code",
   "execution_count": 16,
   "metadata": {},
   "outputs": [],
   "source": [
    "rfc2 = RandomForestClassifier(n_estimators=200)\n",
    "rfc2.fit(x_train, Y_train)\n",
    "pred_rfc2 = rfc2.predict(x_test)"
   ]
  },
  {
   "cell_type": "code",
   "execution_count": 17,
   "metadata": {},
   "outputs": [
    {
     "name": "stdout",
     "output_type": "stream",
     "text": [
      "              precision    recall  f1-score   support\n",
      "\n",
      "           0       0.93      0.95      0.94       273\n",
      "           1       0.65      0.55      0.60        47\n",
      "\n",
      "   micro avg       0.89      0.89      0.89       320\n",
      "   macro avg       0.79      0.75      0.77       320\n",
      "weighted avg       0.88      0.89      0.89       320\n",
      "\n"
     ]
    }
   ],
   "source": [
    "print(classification_report(Y_test, pred_rfc2))"
   ]
  },
  {
   "cell_type": "markdown",
   "metadata": {
    "_cell_guid": "6fc282fd-9db3-4c69-bf91-f9daaaec615b",
    "_uuid": "eaa7b2cbb80adbb06133b9cd89a8ebae014dc3e8"
   },
   "source": [
    "#### Random forest has accuracy of 87% using all data, 90% using most important features"
   ]
  },
  {
   "cell_type": "code",
   "execution_count": 18,
   "metadata": {
    "_cell_guid": "84334dbd-d36c-4650-87ab-d3e8f73be63c",
    "_uuid": "0fd8c7cd7741be25fd0d5f56d5711e8aaf44ac0f"
   },
   "outputs": [
    {
     "name": "stdout",
     "output_type": "stream",
     "text": [
      "[[262  11]\n",
      " [ 30  17]]\n"
     ]
    }
   ],
   "source": [
    "#Confusion matrix\n",
    "from sklearn.metrics import confusion_matrix\n",
    "print(confusion_matrix(y_test, pred_rfc))"
   ]
  },
  {
   "cell_type": "markdown",
   "metadata": {
    "_cell_guid": "eda98e5a-552d-4318-8ae7-1fc45c360be4",
    "_uuid": "9ec5e14c6c24713d6b6e0aaa76ddc5d45886c626"
   },
   "source": [
    "## Support Vector Classifier"
   ]
  },
  {
   "cell_type": "code",
   "execution_count": 19,
   "metadata": {
    "_cell_guid": "c09c2885-0ae7-424b-8bfb-8d60eeab8910",
    "_uuid": "432c960068fac4d27d9be14a39ac0fe92933f532"
   },
   "outputs": [],
   "source": [
    "from sklearn.svm import SVC\n",
    "svc = SVC()\n",
    "svc.fit(X_train, y_train)\n",
    "pred_svc = svc.predict(X_test)"
   ]
  },
  {
   "cell_type": "code",
   "execution_count": 20,
   "metadata": {
    "_cell_guid": "a9bd5ed8-fed7-4d12-8f84-ee02b345f7f3",
    "_uuid": "bc3c13a5596baf43c4c40dbddea247e3ee470d31"
   },
   "outputs": [
    {
     "name": "stdout",
     "output_type": "stream",
     "text": [
      "              precision    recall  f1-score   support\n",
      "\n",
      "           0       0.88      0.98      0.93       273\n",
      "           1       0.67      0.26      0.37        47\n",
      "\n",
      "   micro avg       0.87      0.87      0.87       320\n",
      "   macro avg       0.78      0.62      0.65       320\n",
      "weighted avg       0.85      0.87      0.85       320\n",
      "\n"
     ]
    }
   ],
   "source": [
    "print(classification_report(y_test, pred_svc))"
   ]
  },
  {
   "cell_type": "markdown",
   "metadata": {
    "_cell_guid": "253d6200-8035-400c-a022-00d2bbd7f045",
    "_uuid": "3d4ac7ee94b2a081d5cb8caa1cfd99e41b8940fb"
   },
   "source": [
    "#### Support vector classifier has accuracy of 85%"
   ]
  },
  {
   "cell_type": "markdown",
   "metadata": {
    "_cell_guid": "ea15f1a9-eec6-4d08-a68d-8e3fce6f6b8a",
    "_uuid": "b11f94fdee6a4bfed980793d94ad5c17e33b7d39"
   },
   "source": [
    "## Grid Search CV"
   ]
  },
  {
   "cell_type": "code",
   "execution_count": 21,
   "metadata": {
    "_cell_guid": "31bbdf11-00b0-4120-81f6-b7b5ac537554",
    "_uuid": "0d8fb2a1ae6909c8e44d4b51af8492c194016e4c"
   },
   "outputs": [],
   "source": [
    "#Test different parameters\n",
    "from sklearn.model_selection import GridSearchCV\n",
    "param = {\n",
    "    'C': [1, 10, 100, 1000],\n",
    "    'kernel':['linear', 'rbf'],\n",
    "    'gamma' :[0.0001, 0.0005, 0.001, 0.005]\n",
    "}\n",
    "grid_svc = GridSearchCV(svc, param_grid=param, scoring='accuracy', cv=10, verbose=3)"
   ]
  },
  {
   "cell_type": "code",
   "execution_count": 22,
   "metadata": {
    "_cell_guid": "32cbf4d6-254c-4c55-93e2-448244d89ad9",
    "_uuid": "a581f788a26862911480af8e9c2acb4385d6d79d"
   },
   "outputs": [
    {
     "name": "stdout",
     "output_type": "stream",
     "text": [
      "Fitting 10 folds for each of 32 candidates, totalling 320 fits\n",
      "[CV] C=1, gamma=0.0001, kernel=linear ................................\n",
      "[CV]  C=1, gamma=0.0001, kernel=linear, score=0.8671875, total=   0.0s\n",
      "[CV] C=1, gamma=0.0001, kernel=linear ................................\n",
      "[CV]  C=1, gamma=0.0001, kernel=linear, score=0.8671875, total=   0.0s\n",
      "[CV] C=1, gamma=0.0001, kernel=linear ................................\n",
      "[CV]  C=1, gamma=0.0001, kernel=linear, score=0.8671875, total=   0.0s\n",
      "[CV] C=1, gamma=0.0001, kernel=linear ................................\n",
      "[CV]  C=1, gamma=0.0001, kernel=linear, score=0.8671875, total=   0.0s\n",
      "[CV] C=1, gamma=0.0001, kernel=linear ................................\n",
      "[CV]  C=1, gamma=0.0001, kernel=linear, score=0.8671875, total=   0.0s\n",
      "[CV] C=1, gamma=0.0001, kernel=linear ................................\n"
     ]
    },
    {
     "name": "stderr",
     "output_type": "stream",
     "text": [
      "[Parallel(n_jobs=1)]: Using backend SequentialBackend with 1 concurrent workers.\n",
      "[Parallel(n_jobs=1)]: Done   1 out of   1 | elapsed:    0.0s remaining:    0.0s\n",
      "[Parallel(n_jobs=1)]: Done   2 out of   2 | elapsed:    0.0s remaining:    0.0s\n"
     ]
    },
    {
     "name": "stdout",
     "output_type": "stream",
     "text": [
      "[CV]  C=1, gamma=0.0001, kernel=linear, score=0.8671875, total=   0.0s\n",
      "[CV] C=1, gamma=0.0001, kernel=linear ................................\n",
      "[CV]  C=1, gamma=0.0001, kernel=linear, score=0.8671875, total=   0.0s\n",
      "[CV] C=1, gamma=0.0001, kernel=linear ................................\n",
      "[CV]  C=1, gamma=0.0001, kernel=linear, score=0.8671875, total=   0.0s\n",
      "[CV] C=1, gamma=0.0001, kernel=linear ................................\n",
      "[CV]  C=1, gamma=0.0001, kernel=linear, score=0.8671875, total=   0.0s\n",
      "[CV] C=1, gamma=0.0001, kernel=linear ................................\n",
      "[CV]  C=1, gamma=0.0001, kernel=linear, score=0.8661417322834646, total=   0.0s\n",
      "[CV] C=1, gamma=0.0001, kernel=rbf ...................................\n",
      "[CV] ... C=1, gamma=0.0001, kernel=rbf, score=0.8671875, total=   0.0s\n",
      "[CV] C=1, gamma=0.0001, kernel=rbf ...................................\n",
      "[CV] ... C=1, gamma=0.0001, kernel=rbf, score=0.8671875, total=   0.0s\n",
      "[CV] C=1, gamma=0.0001, kernel=rbf ...................................\n",
      "[CV] ... C=1, gamma=0.0001, kernel=rbf, score=0.8671875, total=   0.0s\n",
      "[CV] C=1, gamma=0.0001, kernel=rbf ...................................\n",
      "[CV] ... C=1, gamma=0.0001, kernel=rbf, score=0.8671875, total=   0.0s\n",
      "[CV] C=1, gamma=0.0001, kernel=rbf ...................................\n",
      "[CV] ... C=1, gamma=0.0001, kernel=rbf, score=0.8671875, total=   0.0s\n",
      "[CV] C=1, gamma=0.0001, kernel=rbf ...................................\n",
      "[CV] ... C=1, gamma=0.0001, kernel=rbf, score=0.8671875, total=   0.0s\n",
      "[CV] C=1, gamma=0.0001, kernel=rbf ...................................\n",
      "[CV] ... C=1, gamma=0.0001, kernel=rbf, score=0.8671875, total=   0.0s\n",
      "[CV] C=1, gamma=0.0001, kernel=rbf ...................................\n",
      "[CV] ... C=1, gamma=0.0001, kernel=rbf, score=0.8671875, total=   0.0s\n",
      "[CV] C=1, gamma=0.0001, kernel=rbf ...................................\n",
      "[CV] ... C=1, gamma=0.0001, kernel=rbf, score=0.8671875, total=   0.0s\n",
      "[CV] C=1, gamma=0.0001, kernel=rbf ...................................\n",
      "[CV]  C=1, gamma=0.0001, kernel=rbf, score=0.8661417322834646, total=   0.0s\n",
      "[CV] C=1, gamma=0.0005, kernel=linear ................................\n",
      "[CV]  C=1, gamma=0.0005, kernel=linear, score=0.8671875, total=   0.0s\n",
      "[CV] C=1, gamma=0.0005, kernel=linear ................................\n",
      "[CV]  C=1, gamma=0.0005, kernel=linear, score=0.8671875, total=   0.0s\n",
      "[CV] C=1, gamma=0.0005, kernel=linear ................................\n",
      "[CV]  C=1, gamma=0.0005, kernel=linear, score=0.8671875, total=   0.0s\n",
      "[CV] C=1, gamma=0.0005, kernel=linear ................................\n",
      "[CV]  C=1, gamma=0.0005, kernel=linear, score=0.8671875, total=   0.0s\n",
      "[CV] C=1, gamma=0.0005, kernel=linear ................................\n",
      "[CV]  C=1, gamma=0.0005, kernel=linear, score=0.8671875, total=   0.0s\n",
      "[CV] C=1, gamma=0.0005, kernel=linear ................................\n",
      "[CV]  C=1, gamma=0.0005, kernel=linear, score=0.8671875, total=   0.0s\n",
      "[CV] C=1, gamma=0.0005, kernel=linear ................................\n",
      "[CV]  C=1, gamma=0.0005, kernel=linear, score=0.8671875, total=   0.0s\n",
      "[CV] C=1, gamma=0.0005, kernel=linear ................................\n",
      "[CV]  C=1, gamma=0.0005, kernel=linear, score=0.8671875, total=   0.0s\n",
      "[CV] C=1, gamma=0.0005, kernel=linear ................................\n",
      "[CV]  C=1, gamma=0.0005, kernel=linear, score=0.8671875, total=   0.0s\n",
      "[CV] C=1, gamma=0.0005, kernel=linear ................................\n",
      "[CV]  C=1, gamma=0.0005, kernel=linear, score=0.8661417322834646, total=   0.0s\n",
      "[CV] C=1, gamma=0.0005, kernel=rbf ...................................\n",
      "[CV] ... C=1, gamma=0.0005, kernel=rbf, score=0.8671875, total=   0.0s\n",
      "[CV] C=1, gamma=0.0005, kernel=rbf ...................................\n",
      "[CV] ... C=1, gamma=0.0005, kernel=rbf, score=0.8671875, total=   0.0s\n",
      "[CV] C=1, gamma=0.0005, kernel=rbf ...................................\n",
      "[CV] ... C=1, gamma=0.0005, kernel=rbf, score=0.8671875, total=   0.0s\n",
      "[CV] C=1, gamma=0.0005, kernel=rbf ...................................\n",
      "[CV] ... C=1, gamma=0.0005, kernel=rbf, score=0.8671875, total=   0.0s\n",
      "[CV] C=1, gamma=0.0005, kernel=rbf ...................................\n",
      "[CV] ... C=1, gamma=0.0005, kernel=rbf, score=0.8671875, total=   0.0s\n",
      "[CV] C=1, gamma=0.0005, kernel=rbf ...................................\n",
      "[CV] ... C=1, gamma=0.0005, kernel=rbf, score=0.8671875, total=   0.0s\n",
      "[CV] C=1, gamma=0.0005, kernel=rbf ...................................\n",
      "[CV] ... C=1, gamma=0.0005, kernel=rbf, score=0.8671875, total=   0.0s\n",
      "[CV] C=1, gamma=0.0005, kernel=rbf ...................................\n",
      "[CV] ... C=1, gamma=0.0005, kernel=rbf, score=0.8671875, total=   0.0s\n",
      "[CV] C=1, gamma=0.0005, kernel=rbf ...................................\n",
      "[CV] ... C=1, gamma=0.0005, kernel=rbf, score=0.8671875, total=   0.0s\n",
      "[CV] C=1, gamma=0.0005, kernel=rbf ...................................\n",
      "[CV]  C=1, gamma=0.0005, kernel=rbf, score=0.8661417322834646, total=   0.0s\n",
      "[CV] C=1, gamma=0.001, kernel=linear .................................\n",
      "[CV] . C=1, gamma=0.001, kernel=linear, score=0.8671875, total=   0.0s\n",
      "[CV] C=1, gamma=0.001, kernel=linear .................................\n",
      "[CV] . C=1, gamma=0.001, kernel=linear, score=0.8671875, total=   0.0s\n",
      "[CV] C=1, gamma=0.001, kernel=linear .................................\n",
      "[CV] . C=1, gamma=0.001, kernel=linear, score=0.8671875, total=   0.0s\n",
      "[CV] C=1, gamma=0.001, kernel=linear .................................\n",
      "[CV] . C=1, gamma=0.001, kernel=linear, score=0.8671875, total=   0.0s\n",
      "[CV] C=1, gamma=0.001, kernel=linear .................................\n",
      "[CV] . C=1, gamma=0.001, kernel=linear, score=0.8671875, total=   0.0s\n",
      "[CV] C=1, gamma=0.001, kernel=linear .................................\n",
      "[CV] . C=1, gamma=0.001, kernel=linear, score=0.8671875, total=   0.0s\n",
      "[CV] C=1, gamma=0.001, kernel=linear .................................\n",
      "[CV] . C=1, gamma=0.001, kernel=linear, score=0.8671875, total=   0.0s\n",
      "[CV] C=1, gamma=0.001, kernel=linear .................................\n",
      "[CV] . C=1, gamma=0.001, kernel=linear, score=0.8671875, total=   0.0s\n",
      "[CV] C=1, gamma=0.001, kernel=linear .................................\n",
      "[CV] . C=1, gamma=0.001, kernel=linear, score=0.8671875, total=   0.0s\n",
      "[CV] C=1, gamma=0.001, kernel=linear .................................\n",
      "[CV]  C=1, gamma=0.001, kernel=linear, score=0.8661417322834646, total=   0.0s\n",
      "[CV] C=1, gamma=0.001, kernel=rbf ....................................\n",
      "[CV] .... C=1, gamma=0.001, kernel=rbf, score=0.8671875, total=   0.0s\n",
      "[CV] C=1, gamma=0.001, kernel=rbf ....................................\n",
      "[CV] .... C=1, gamma=0.001, kernel=rbf, score=0.8671875, total=   0.0s\n",
      "[CV] C=1, gamma=0.001, kernel=rbf ....................................\n",
      "[CV] .... C=1, gamma=0.001, kernel=rbf, score=0.8671875, total=   0.0s\n",
      "[CV] C=1, gamma=0.001, kernel=rbf ....................................\n",
      "[CV] .... C=1, gamma=0.001, kernel=rbf, score=0.8671875, total=   0.0s\n",
      "[CV] C=1, gamma=0.001, kernel=rbf ....................................\n",
      "[CV] .... C=1, gamma=0.001, kernel=rbf, score=0.8671875, total=   0.0s\n",
      "[CV] C=1, gamma=0.001, kernel=rbf ....................................\n",
      "[CV] .... C=1, gamma=0.001, kernel=rbf, score=0.8671875, total=   0.0s\n",
      "[CV] C=1, gamma=0.001, kernel=rbf ....................................\n",
      "[CV] .... C=1, gamma=0.001, kernel=rbf, score=0.8671875, total=   0.0s\n",
      "[CV] C=1, gamma=0.001, kernel=rbf ....................................\n",
      "[CV] .... C=1, gamma=0.001, kernel=rbf, score=0.8671875, total=   0.0s\n",
      "[CV] C=1, gamma=0.001, kernel=rbf ....................................\n",
      "[CV] .... C=1, gamma=0.001, kernel=rbf, score=0.8671875, total=   0.0s\n",
      "[CV] C=1, gamma=0.001, kernel=rbf ....................................\n",
      "[CV]  C=1, gamma=0.001, kernel=rbf, score=0.8661417322834646, total=   0.0s\n",
      "[CV] C=1, gamma=0.005, kernel=linear .................................\n",
      "[CV] . C=1, gamma=0.005, kernel=linear, score=0.8671875, total=   0.0s\n",
      "[CV] C=1, gamma=0.005, kernel=linear .................................\n",
      "[CV] . C=1, gamma=0.005, kernel=linear, score=0.8671875, total=   0.0s\n",
      "[CV] C=1, gamma=0.005, kernel=linear .................................\n",
      "[CV] . C=1, gamma=0.005, kernel=linear, score=0.8671875, total=   0.0s\n",
      "[CV] C=1, gamma=0.005, kernel=linear .................................\n",
      "[CV] . C=1, gamma=0.005, kernel=linear, score=0.8671875, total=   0.0s\n",
      "[CV] C=1, gamma=0.005, kernel=linear .................................\n"
     ]
    },
    {
     "name": "stdout",
     "output_type": "stream",
     "text": [
      "[CV] . C=1, gamma=0.005, kernel=linear, score=0.8671875, total=   0.0s\n",
      "[CV] C=1, gamma=0.005, kernel=linear .................................\n",
      "[CV] . C=1, gamma=0.005, kernel=linear, score=0.8671875, total=   0.0s\n",
      "[CV] C=1, gamma=0.005, kernel=linear .................................\n",
      "[CV] . C=1, gamma=0.005, kernel=linear, score=0.8671875, total=   0.0s\n",
      "[CV] C=1, gamma=0.005, kernel=linear .................................\n",
      "[CV] . C=1, gamma=0.005, kernel=linear, score=0.8671875, total=   0.0s\n",
      "[CV] C=1, gamma=0.005, kernel=linear .................................\n",
      "[CV] . C=1, gamma=0.005, kernel=linear, score=0.8671875, total=   0.0s\n",
      "[CV] C=1, gamma=0.005, kernel=linear .................................\n",
      "[CV]  C=1, gamma=0.005, kernel=linear, score=0.8661417322834646, total=   0.0s\n",
      "[CV] C=1, gamma=0.005, kernel=rbf ....................................\n",
      "[CV] .... C=1, gamma=0.005, kernel=rbf, score=0.8671875, total=   0.0s\n",
      "[CV] C=1, gamma=0.005, kernel=rbf ....................................\n",
      "[CV] .... C=1, gamma=0.005, kernel=rbf, score=0.8671875, total=   0.0s\n",
      "[CV] C=1, gamma=0.005, kernel=rbf ....................................\n",
      "[CV] .... C=1, gamma=0.005, kernel=rbf, score=0.8671875, total=   0.0s\n",
      "[CV] C=1, gamma=0.005, kernel=rbf ....................................\n",
      "[CV] .... C=1, gamma=0.005, kernel=rbf, score=0.8671875, total=   0.0s\n",
      "[CV] C=1, gamma=0.005, kernel=rbf ....................................\n",
      "[CV] .... C=1, gamma=0.005, kernel=rbf, score=0.8671875, total=   0.0s\n",
      "[CV] C=1, gamma=0.005, kernel=rbf ....................................\n",
      "[CV] .... C=1, gamma=0.005, kernel=rbf, score=0.8671875, total=   0.0s\n",
      "[CV] C=1, gamma=0.005, kernel=rbf ....................................\n",
      "[CV] .... C=1, gamma=0.005, kernel=rbf, score=0.8671875, total=   0.0s\n",
      "[CV] C=1, gamma=0.005, kernel=rbf ....................................\n",
      "[CV] .... C=1, gamma=0.005, kernel=rbf, score=0.8671875, total=   0.0s\n",
      "[CV] C=1, gamma=0.005, kernel=rbf ....................................\n",
      "[CV] .... C=1, gamma=0.005, kernel=rbf, score=0.8671875, total=   0.0s\n",
      "[CV] C=1, gamma=0.005, kernel=rbf ....................................\n",
      "[CV]  C=1, gamma=0.005, kernel=rbf, score=0.8661417322834646, total=   0.0s\n",
      "[CV] C=10, gamma=0.0001, kernel=linear ...............................\n",
      "[CV]  C=10, gamma=0.0001, kernel=linear, score=0.8671875, total=   0.0s\n",
      "[CV] C=10, gamma=0.0001, kernel=linear ...............................\n",
      "[CV]  C=10, gamma=0.0001, kernel=linear, score=0.8671875, total=   0.0s\n",
      "[CV] C=10, gamma=0.0001, kernel=linear ...............................\n",
      "[CV]  C=10, gamma=0.0001, kernel=linear, score=0.8671875, total=   0.0s\n",
      "[CV] C=10, gamma=0.0001, kernel=linear ...............................\n",
      "[CV]  C=10, gamma=0.0001, kernel=linear, score=0.8671875, total=   0.0s\n",
      "[CV] C=10, gamma=0.0001, kernel=linear ...............................\n",
      "[CV]  C=10, gamma=0.0001, kernel=linear, score=0.8671875, total=   0.1s\n",
      "[CV] C=10, gamma=0.0001, kernel=linear ...............................\n",
      "[CV]  C=10, gamma=0.0001, kernel=linear, score=0.8671875, total=   0.1s\n",
      "[CV] C=10, gamma=0.0001, kernel=linear ...............................\n",
      "[CV]  C=10, gamma=0.0001, kernel=linear, score=0.8671875, total=   0.0s\n",
      "[CV] C=10, gamma=0.0001, kernel=linear ...............................\n",
      "[CV]  C=10, gamma=0.0001, kernel=linear, score=0.8671875, total=   0.0s\n",
      "[CV] C=10, gamma=0.0001, kernel=linear ...............................\n",
      "[CV]  C=10, gamma=0.0001, kernel=linear, score=0.8671875, total=   0.0s\n",
      "[CV] C=10, gamma=0.0001, kernel=linear ...............................\n",
      "[CV]  C=10, gamma=0.0001, kernel=linear, score=0.8661417322834646, total=   0.0s\n",
      "[CV] C=10, gamma=0.0001, kernel=rbf ..................................\n",
      "[CV] .. C=10, gamma=0.0001, kernel=rbf, score=0.8671875, total=   0.0s\n",
      "[CV] C=10, gamma=0.0001, kernel=rbf ..................................\n",
      "[CV] .. C=10, gamma=0.0001, kernel=rbf, score=0.8671875, total=   0.0s\n",
      "[CV] C=10, gamma=0.0001, kernel=rbf ..................................\n",
      "[CV] .. C=10, gamma=0.0001, kernel=rbf, score=0.8671875, total=   0.0s\n",
      "[CV] C=10, gamma=0.0001, kernel=rbf ..................................\n",
      "[CV] .. C=10, gamma=0.0001, kernel=rbf, score=0.8671875, total=   0.0s\n",
      "[CV] C=10, gamma=0.0001, kernel=rbf ..................................\n",
      "[CV] .. C=10, gamma=0.0001, kernel=rbf, score=0.8671875, total=   0.0s\n",
      "[CV] C=10, gamma=0.0001, kernel=rbf ..................................\n",
      "[CV] .. C=10, gamma=0.0001, kernel=rbf, score=0.8671875, total=   0.0s\n",
      "[CV] C=10, gamma=0.0001, kernel=rbf ..................................\n",
      "[CV] .. C=10, gamma=0.0001, kernel=rbf, score=0.8671875, total=   0.0s\n",
      "[CV] C=10, gamma=0.0001, kernel=rbf ..................................\n",
      "[CV] .. C=10, gamma=0.0001, kernel=rbf, score=0.8671875, total=   0.0s\n",
      "[CV] C=10, gamma=0.0001, kernel=rbf ..................................\n",
      "[CV] .. C=10, gamma=0.0001, kernel=rbf, score=0.8671875, total=   0.0s\n",
      "[CV] C=10, gamma=0.0001, kernel=rbf ..................................\n",
      "[CV]  C=10, gamma=0.0001, kernel=rbf, score=0.8661417322834646, total=   0.0s\n",
      "[CV] C=10, gamma=0.0005, kernel=linear ...............................\n",
      "[CV]  C=10, gamma=0.0005, kernel=linear, score=0.8671875, total=   0.0s\n",
      "[CV] C=10, gamma=0.0005, kernel=linear ...............................\n",
      "[CV]  C=10, gamma=0.0005, kernel=linear, score=0.8671875, total=   0.0s\n",
      "[CV] C=10, gamma=0.0005, kernel=linear ...............................\n",
      "[CV]  C=10, gamma=0.0005, kernel=linear, score=0.8671875, total=   0.0s\n",
      "[CV] C=10, gamma=0.0005, kernel=linear ...............................\n",
      "[CV]  C=10, gamma=0.0005, kernel=linear, score=0.8671875, total=   0.0s\n",
      "[CV] C=10, gamma=0.0005, kernel=linear ...............................\n",
      "[CV]  C=10, gamma=0.0005, kernel=linear, score=0.8671875, total=   0.0s\n",
      "[CV] C=10, gamma=0.0005, kernel=linear ...............................\n",
      "[CV]  C=10, gamma=0.0005, kernel=linear, score=0.8671875, total=   0.0s\n",
      "[CV] C=10, gamma=0.0005, kernel=linear ...............................\n",
      "[CV]  C=10, gamma=0.0005, kernel=linear, score=0.8671875, total=   0.0s\n",
      "[CV] C=10, gamma=0.0005, kernel=linear ...............................\n",
      "[CV]  C=10, gamma=0.0005, kernel=linear, score=0.8671875, total=   0.0s\n",
      "[CV] C=10, gamma=0.0005, kernel=linear ...............................\n",
      "[CV]  C=10, gamma=0.0005, kernel=linear, score=0.8671875, total=   0.0s\n",
      "[CV] C=10, gamma=0.0005, kernel=linear ...............................\n",
      "[CV]  C=10, gamma=0.0005, kernel=linear, score=0.8661417322834646, total=   0.0s\n",
      "[CV] C=10, gamma=0.0005, kernel=rbf ..................................\n",
      "[CV] .. C=10, gamma=0.0005, kernel=rbf, score=0.8671875, total=   0.0s\n",
      "[CV] C=10, gamma=0.0005, kernel=rbf ..................................\n",
      "[CV] .. C=10, gamma=0.0005, kernel=rbf, score=0.8671875, total=   0.0s\n",
      "[CV] C=10, gamma=0.0005, kernel=rbf ..................................\n",
      "[CV] .. C=10, gamma=0.0005, kernel=rbf, score=0.8671875, total=   0.0s\n",
      "[CV] C=10, gamma=0.0005, kernel=rbf ..................................\n",
      "[CV] .. C=10, gamma=0.0005, kernel=rbf, score=0.8671875, total=   0.0s\n",
      "[CV] C=10, gamma=0.0005, kernel=rbf ..................................\n",
      "[CV] .. C=10, gamma=0.0005, kernel=rbf, score=0.8671875, total=   0.0s\n",
      "[CV] C=10, gamma=0.0005, kernel=rbf ..................................\n",
      "[CV] .. C=10, gamma=0.0005, kernel=rbf, score=0.8671875, total=   0.0s\n",
      "[CV] C=10, gamma=0.0005, kernel=rbf ..................................\n",
      "[CV] .. C=10, gamma=0.0005, kernel=rbf, score=0.8671875, total=   0.0s\n",
      "[CV] C=10, gamma=0.0005, kernel=rbf ..................................\n",
      "[CV] .. C=10, gamma=0.0005, kernel=rbf, score=0.8671875, total=   0.0s\n",
      "[CV] C=10, gamma=0.0005, kernel=rbf ..................................\n",
      "[CV] .. C=10, gamma=0.0005, kernel=rbf, score=0.8671875, total=   0.0s\n",
      "[CV] C=10, gamma=0.0005, kernel=rbf ..................................\n",
      "[CV]  C=10, gamma=0.0005, kernel=rbf, score=0.8661417322834646, total=   0.0s\n",
      "[CV] C=10, gamma=0.001, kernel=linear ................................\n",
      "[CV]  C=10, gamma=0.001, kernel=linear, score=0.8671875, total=   0.0s\n",
      "[CV] C=10, gamma=0.001, kernel=linear ................................\n",
      "[CV]  C=10, gamma=0.001, kernel=linear, score=0.8671875, total=   0.0s\n",
      "[CV] C=10, gamma=0.001, kernel=linear ................................\n"
     ]
    },
    {
     "name": "stdout",
     "output_type": "stream",
     "text": [
      "[CV]  C=10, gamma=0.001, kernel=linear, score=0.8671875, total=   0.0s\n",
      "[CV] C=10, gamma=0.001, kernel=linear ................................\n",
      "[CV]  C=10, gamma=0.001, kernel=linear, score=0.8671875, total=   0.0s\n",
      "[CV] C=10, gamma=0.001, kernel=linear ................................\n",
      "[CV]  C=10, gamma=0.001, kernel=linear, score=0.8671875, total=   0.0s\n",
      "[CV] C=10, gamma=0.001, kernel=linear ................................\n",
      "[CV]  C=10, gamma=0.001, kernel=linear, score=0.8671875, total=   0.0s\n",
      "[CV] C=10, gamma=0.001, kernel=linear ................................\n",
      "[CV]  C=10, gamma=0.001, kernel=linear, score=0.8671875, total=   0.0s\n",
      "[CV] C=10, gamma=0.001, kernel=linear ................................\n",
      "[CV]  C=10, gamma=0.001, kernel=linear, score=0.8671875, total=   0.0s\n",
      "[CV] C=10, gamma=0.001, kernel=linear ................................\n",
      "[CV]  C=10, gamma=0.001, kernel=linear, score=0.8671875, total=   0.0s\n",
      "[CV] C=10, gamma=0.001, kernel=linear ................................\n",
      "[CV]  C=10, gamma=0.001, kernel=linear, score=0.8661417322834646, total=   0.0s\n",
      "[CV] C=10, gamma=0.001, kernel=rbf ...................................\n",
      "[CV] ... C=10, gamma=0.001, kernel=rbf, score=0.8671875, total=   0.0s\n",
      "[CV] C=10, gamma=0.001, kernel=rbf ...................................\n",
      "[CV] ... C=10, gamma=0.001, kernel=rbf, score=0.8671875, total=   0.0s\n",
      "[CV] C=10, gamma=0.001, kernel=rbf ...................................\n",
      "[CV] ... C=10, gamma=0.001, kernel=rbf, score=0.8671875, total=   0.0s\n",
      "[CV] C=10, gamma=0.001, kernel=rbf ...................................\n",
      "[CV] ... C=10, gamma=0.001, kernel=rbf, score=0.8671875, total=   0.0s\n",
      "[CV] C=10, gamma=0.001, kernel=rbf ...................................\n",
      "[CV] ... C=10, gamma=0.001, kernel=rbf, score=0.8671875, total=   0.0s\n",
      "[CV] C=10, gamma=0.001, kernel=rbf ...................................\n",
      "[CV] ... C=10, gamma=0.001, kernel=rbf, score=0.8671875, total=   0.0s\n",
      "[CV] C=10, gamma=0.001, kernel=rbf ...................................\n",
      "[CV] ... C=10, gamma=0.001, kernel=rbf, score=0.8671875, total=   0.0s\n",
      "[CV] C=10, gamma=0.001, kernel=rbf ...................................\n",
      "[CV] ... C=10, gamma=0.001, kernel=rbf, score=0.8671875, total=   0.0s\n",
      "[CV] C=10, gamma=0.001, kernel=rbf ...................................\n",
      "[CV] ... C=10, gamma=0.001, kernel=rbf, score=0.8671875, total=   0.0s\n",
      "[CV] C=10, gamma=0.001, kernel=rbf ...................................\n",
      "[CV]  C=10, gamma=0.001, kernel=rbf, score=0.8661417322834646, total=   0.0s\n",
      "[CV] C=10, gamma=0.005, kernel=linear ................................\n",
      "[CV]  C=10, gamma=0.005, kernel=linear, score=0.8671875, total=   0.0s\n",
      "[CV] C=10, gamma=0.005, kernel=linear ................................\n",
      "[CV]  C=10, gamma=0.005, kernel=linear, score=0.8671875, total=   0.0s\n",
      "[CV] C=10, gamma=0.005, kernel=linear ................................\n",
      "[CV]  C=10, gamma=0.005, kernel=linear, score=0.8671875, total=   0.0s\n",
      "[CV] C=10, gamma=0.005, kernel=linear ................................\n",
      "[CV]  C=10, gamma=0.005, kernel=linear, score=0.8671875, total=   0.0s\n",
      "[CV] C=10, gamma=0.005, kernel=linear ................................\n",
      "[CV]  C=10, gamma=0.005, kernel=linear, score=0.8671875, total=   0.0s\n",
      "[CV] C=10, gamma=0.005, kernel=linear ................................\n",
      "[CV]  C=10, gamma=0.005, kernel=linear, score=0.8671875, total=   0.1s\n",
      "[CV] C=10, gamma=0.005, kernel=linear ................................\n",
      "[CV]  C=10, gamma=0.005, kernel=linear, score=0.8671875, total=   0.0s\n",
      "[CV] C=10, gamma=0.005, kernel=linear ................................\n",
      "[CV]  C=10, gamma=0.005, kernel=linear, score=0.8671875, total=   0.0s\n",
      "[CV] C=10, gamma=0.005, kernel=linear ................................\n",
      "[CV]  C=10, gamma=0.005, kernel=linear, score=0.8671875, total=   0.0s\n",
      "[CV] C=10, gamma=0.005, kernel=linear ................................\n",
      "[CV]  C=10, gamma=0.005, kernel=linear, score=0.8661417322834646, total=   0.0s\n",
      "[CV] C=10, gamma=0.005, kernel=rbf ...................................\n",
      "[CV] ... C=10, gamma=0.005, kernel=rbf, score=0.8671875, total=   0.0s\n",
      "[CV] C=10, gamma=0.005, kernel=rbf ...................................\n",
      "[CV] ....... C=10, gamma=0.005, kernel=rbf, score=0.875, total=   0.0s\n",
      "[CV] C=10, gamma=0.005, kernel=rbf ...................................\n",
      "[CV] ... C=10, gamma=0.005, kernel=rbf, score=0.8671875, total=   0.0s\n",
      "[CV] C=10, gamma=0.005, kernel=rbf ...................................\n",
      "[CV] ... C=10, gamma=0.005, kernel=rbf, score=0.8671875, total=   0.0s\n",
      "[CV] C=10, gamma=0.005, kernel=rbf ...................................\n",
      "[CV] ... C=10, gamma=0.005, kernel=rbf, score=0.8671875, total=   0.0s\n",
      "[CV] C=10, gamma=0.005, kernel=rbf ...................................\n",
      "[CV] ... C=10, gamma=0.005, kernel=rbf, score=0.8515625, total=   0.0s\n",
      "[CV] C=10, gamma=0.005, kernel=rbf ...................................\n",
      "[CV] ... C=10, gamma=0.005, kernel=rbf, score=0.8671875, total=   0.0s\n",
      "[CV] C=10, gamma=0.005, kernel=rbf ...................................\n",
      "[CV] ... C=10, gamma=0.005, kernel=rbf, score=0.8671875, total=   0.0s\n",
      "[CV] C=10, gamma=0.005, kernel=rbf ...................................\n",
      "[CV] .... C=10, gamma=0.005, kernel=rbf, score=0.859375, total=   0.0s\n",
      "[CV] C=10, gamma=0.005, kernel=rbf ...................................\n",
      "[CV]  C=10, gamma=0.005, kernel=rbf, score=0.8661417322834646, total=   0.0s\n",
      "[CV] C=100, gamma=0.0001, kernel=linear ..............................\n",
      "[CV]  C=100, gamma=0.0001, kernel=linear, score=0.8671875, total=  19.4s\n",
      "[CV] C=100, gamma=0.0001, kernel=linear ..............................\n",
      "[CV]  C=100, gamma=0.0001, kernel=linear, score=0.8671875, total=   7.4s\n",
      "[CV] C=100, gamma=0.0001, kernel=linear ..............................\n",
      "[CV]  C=100, gamma=0.0001, kernel=linear, score=0.8671875, total=   5.7s\n",
      "[CV] C=100, gamma=0.0001, kernel=linear ..............................\n",
      "[CV]  C=100, gamma=0.0001, kernel=linear, score=0.8671875, total=   4.5s\n",
      "[CV] C=100, gamma=0.0001, kernel=linear ..............................\n",
      "[CV]  C=100, gamma=0.0001, kernel=linear, score=0.8671875, total=   2.7s\n",
      "[CV] C=100, gamma=0.0001, kernel=linear ..............................\n",
      "[CV]  C=100, gamma=0.0001, kernel=linear, score=0.8671875, total=   0.2s\n",
      "[CV] C=100, gamma=0.0001, kernel=linear ..............................\n",
      "[CV]  C=100, gamma=0.0001, kernel=linear, score=0.8671875, total=   2.5s\n",
      "[CV] C=100, gamma=0.0001, kernel=linear ..............................\n",
      "[CV]  C=100, gamma=0.0001, kernel=linear, score=0.8671875, total=   3.6s\n",
      "[CV] C=100, gamma=0.0001, kernel=linear ..............................\n",
      "[CV]  C=100, gamma=0.0001, kernel=linear, score=0.8671875, total=   1.8s\n",
      "[CV] C=100, gamma=0.0001, kernel=linear ..............................\n",
      "[CV]  C=100, gamma=0.0001, kernel=linear, score=0.8661417322834646, total=   6.6s\n",
      "[CV] C=100, gamma=0.0001, kernel=rbf .................................\n",
      "[CV] . C=100, gamma=0.0001, kernel=rbf, score=0.8671875, total=   0.0s\n",
      "[CV] C=100, gamma=0.0001, kernel=rbf .................................\n",
      "[CV] . C=100, gamma=0.0001, kernel=rbf, score=0.8671875, total=   0.0s\n",
      "[CV] C=100, gamma=0.0001, kernel=rbf .................................\n",
      "[CV] . C=100, gamma=0.0001, kernel=rbf, score=0.8671875, total=   0.0s\n",
      "[CV] C=100, gamma=0.0001, kernel=rbf .................................\n",
      "[CV] . C=100, gamma=0.0001, kernel=rbf, score=0.8671875, total=   0.0s\n",
      "[CV] C=100, gamma=0.0001, kernel=rbf .................................\n",
      "[CV] . C=100, gamma=0.0001, kernel=rbf, score=0.8671875, total=   0.0s\n",
      "[CV] C=100, gamma=0.0001, kernel=rbf .................................\n",
      "[CV] . C=100, gamma=0.0001, kernel=rbf, score=0.8671875, total=   0.0s\n",
      "[CV] C=100, gamma=0.0001, kernel=rbf .................................\n",
      "[CV] . C=100, gamma=0.0001, kernel=rbf, score=0.8671875, total=   0.0s\n",
      "[CV] C=100, gamma=0.0001, kernel=rbf .................................\n",
      "[CV] . C=100, gamma=0.0001, kernel=rbf, score=0.8671875, total=   0.0s\n",
      "[CV] C=100, gamma=0.0001, kernel=rbf .................................\n",
      "[CV] . C=100, gamma=0.0001, kernel=rbf, score=0.8671875, total=   0.0s\n",
      "[CV] C=100, gamma=0.0001, kernel=rbf .................................\n",
      "[CV]  C=100, gamma=0.0001, kernel=rbf, score=0.8661417322834646, total=   0.0s\n",
      "[CV] C=100, gamma=0.0005, kernel=linear ..............................\n"
     ]
    },
    {
     "name": "stdout",
     "output_type": "stream",
     "text": [
      "[CV]  C=100, gamma=0.0005, kernel=linear, score=0.8671875, total=  13.0s\n",
      "[CV] C=100, gamma=0.0005, kernel=linear ..............................\n",
      "[CV]  C=100, gamma=0.0005, kernel=linear, score=0.8671875, total=   7.2s\n",
      "[CV] C=100, gamma=0.0005, kernel=linear ..............................\n",
      "[CV]  C=100, gamma=0.0005, kernel=linear, score=0.8671875, total=   5.6s\n",
      "[CV] C=100, gamma=0.0005, kernel=linear ..............................\n",
      "[CV]  C=100, gamma=0.0005, kernel=linear, score=0.8671875, total=   4.8s\n",
      "[CV] C=100, gamma=0.0005, kernel=linear ..............................\n",
      "[CV]  C=100, gamma=0.0005, kernel=linear, score=0.8671875, total=   6.0s\n",
      "[CV] C=100, gamma=0.0005, kernel=linear ..............................\n",
      "[CV]  C=100, gamma=0.0005, kernel=linear, score=0.8671875, total=   0.8s\n",
      "[CV] C=100, gamma=0.0005, kernel=linear ..............................\n",
      "[CV]  C=100, gamma=0.0005, kernel=linear, score=0.8671875, total=   6.7s\n",
      "[CV] C=100, gamma=0.0005, kernel=linear ..............................\n",
      "[CV]  C=100, gamma=0.0005, kernel=linear, score=0.8671875, total=   9.7s\n",
      "[CV] C=100, gamma=0.0005, kernel=linear ..............................\n",
      "[CV]  C=100, gamma=0.0005, kernel=linear, score=0.8671875, total=   4.6s\n",
      "[CV] C=100, gamma=0.0005, kernel=linear ..............................\n",
      "[CV]  C=100, gamma=0.0005, kernel=linear, score=0.8661417322834646, total=  17.5s\n",
      "[CV] C=100, gamma=0.0005, kernel=rbf .................................\n",
      "[CV] . C=100, gamma=0.0005, kernel=rbf, score=0.8671875, total=   0.0s\n",
      "[CV] C=100, gamma=0.0005, kernel=rbf .................................\n",
      "[CV] . C=100, gamma=0.0005, kernel=rbf, score=0.8671875, total=   0.0s\n",
      "[CV] C=100, gamma=0.0005, kernel=rbf .................................\n",
      "[CV] . C=100, gamma=0.0005, kernel=rbf, score=0.8671875, total=   0.0s\n",
      "[CV] C=100, gamma=0.0005, kernel=rbf .................................\n",
      "[CV] . C=100, gamma=0.0005, kernel=rbf, score=0.8671875, total=   0.0s\n",
      "[CV] C=100, gamma=0.0005, kernel=rbf .................................\n",
      "[CV] . C=100, gamma=0.0005, kernel=rbf, score=0.8671875, total=   0.0s\n",
      "[CV] C=100, gamma=0.0005, kernel=rbf .................................\n",
      "[CV] .. C=100, gamma=0.0005, kernel=rbf, score=0.859375, total=   0.0s\n",
      "[CV] C=100, gamma=0.0005, kernel=rbf .................................\n",
      "[CV] . C=100, gamma=0.0005, kernel=rbf, score=0.8671875, total=   0.0s\n",
      "[CV] C=100, gamma=0.0005, kernel=rbf .................................\n",
      "[CV] . C=100, gamma=0.0005, kernel=rbf, score=0.8671875, total=   0.0s\n",
      "[CV] C=100, gamma=0.0005, kernel=rbf .................................\n",
      "[CV] . C=100, gamma=0.0005, kernel=rbf, score=0.8671875, total=   0.0s\n",
      "[CV] C=100, gamma=0.0005, kernel=rbf .................................\n",
      "[CV]  C=100, gamma=0.0005, kernel=rbf, score=0.8661417322834646, total=   0.0s\n",
      "[CV] C=100, gamma=0.001, kernel=linear ...............................\n",
      "[CV]  C=100, gamma=0.001, kernel=linear, score=0.8671875, total=  19.4s\n",
      "[CV] C=100, gamma=0.001, kernel=linear ...............................\n",
      "[CV]  C=100, gamma=0.001, kernel=linear, score=0.8671875, total=   7.1s\n",
      "[CV] C=100, gamma=0.001, kernel=linear ...............................\n",
      "[CV]  C=100, gamma=0.001, kernel=linear, score=0.8671875, total=   5.7s\n",
      "[CV] C=100, gamma=0.001, kernel=linear ...............................\n",
      "[CV]  C=100, gamma=0.001, kernel=linear, score=0.8671875, total=   4.8s\n",
      "[CV] C=100, gamma=0.001, kernel=linear ...............................\n",
      "[CV]  C=100, gamma=0.001, kernel=linear, score=0.8671875, total=   5.9s\n",
      "[CV] C=100, gamma=0.001, kernel=linear ...............................\n",
      "[CV]  C=100, gamma=0.001, kernel=linear, score=0.8671875, total=   0.8s\n",
      "[CV] C=100, gamma=0.001, kernel=linear ...............................\n",
      "[CV]  C=100, gamma=0.001, kernel=linear, score=0.8671875, total=   6.8s\n",
      "[CV] C=100, gamma=0.001, kernel=linear ...............................\n",
      "[CV]  C=100, gamma=0.001, kernel=linear, score=0.8671875, total=   9.6s\n",
      "[CV] C=100, gamma=0.001, kernel=linear ...............................\n",
      "[CV]  C=100, gamma=0.001, kernel=linear, score=0.8671875, total=   4.7s\n",
      "[CV] C=100, gamma=0.001, kernel=linear ...............................\n",
      "[CV]  C=100, gamma=0.001, kernel=linear, score=0.8661417322834646, total=  17.6s\n",
      "[CV] C=100, gamma=0.001, kernel=rbf ..................................\n",
      "[CV] .. C=100, gamma=0.001, kernel=rbf, score=0.8671875, total=   0.0s\n",
      "[CV] C=100, gamma=0.001, kernel=rbf ..................................\n",
      "[CV] .. C=100, gamma=0.001, kernel=rbf, score=0.8671875, total=   0.0s\n",
      "[CV] C=100, gamma=0.001, kernel=rbf ..................................\n",
      "[CV] .. C=100, gamma=0.001, kernel=rbf, score=0.8671875, total=   0.0s\n",
      "[CV] C=100, gamma=0.001, kernel=rbf ..................................\n",
      "[CV] .. C=100, gamma=0.001, kernel=rbf, score=0.8671875, total=   0.0s\n",
      "[CV] C=100, gamma=0.001, kernel=rbf ..................................\n",
      "[CV] .. C=100, gamma=0.001, kernel=rbf, score=0.8671875, total=   0.0s\n",
      "[CV] C=100, gamma=0.001, kernel=rbf ..................................\n",
      "[CV] .. C=100, gamma=0.001, kernel=rbf, score=0.8515625, total=   0.0s\n",
      "[CV] C=100, gamma=0.001, kernel=rbf ..................................\n",
      "[CV] .. C=100, gamma=0.001, kernel=rbf, score=0.8671875, total=   0.0s\n",
      "[CV] C=100, gamma=0.001, kernel=rbf ..................................\n",
      "[CV] .. C=100, gamma=0.001, kernel=rbf, score=0.8671875, total=   0.0s\n",
      "[CV] C=100, gamma=0.001, kernel=rbf ..................................\n",
      "[CV] .. C=100, gamma=0.001, kernel=rbf, score=0.8671875, total=   0.0s\n",
      "[CV] C=100, gamma=0.001, kernel=rbf ..................................\n",
      "[CV]  C=100, gamma=0.001, kernel=rbf, score=0.8661417322834646, total=   0.0s\n",
      "[CV] C=100, gamma=0.005, kernel=linear ...............................\n",
      "[CV]  C=100, gamma=0.005, kernel=linear, score=0.8671875, total=  19.7s\n",
      "[CV] C=100, gamma=0.005, kernel=linear ...............................\n",
      "[CV]  C=100, gamma=0.005, kernel=linear, score=0.8671875, total=   7.1s\n",
      "[CV] C=100, gamma=0.005, kernel=linear ...............................\n",
      "[CV]  C=100, gamma=0.005, kernel=linear, score=0.8671875, total=   5.7s\n",
      "[CV] C=100, gamma=0.005, kernel=linear ...............................\n",
      "[CV]  C=100, gamma=0.005, kernel=linear, score=0.8671875, total=   4.7s\n",
      "[CV] C=100, gamma=0.005, kernel=linear ...............................\n",
      "[CV]  C=100, gamma=0.005, kernel=linear, score=0.8671875, total=   6.0s\n",
      "[CV] C=100, gamma=0.005, kernel=linear ...............................\n",
      "[CV]  C=100, gamma=0.005, kernel=linear, score=0.8671875, total=   0.8s\n",
      "[CV] C=100, gamma=0.005, kernel=linear ...............................\n",
      "[CV]  C=100, gamma=0.005, kernel=linear, score=0.8671875, total=   6.8s\n",
      "[CV] C=100, gamma=0.005, kernel=linear ...............................\n",
      "[CV]  C=100, gamma=0.005, kernel=linear, score=0.8671875, total=   9.7s\n",
      "[CV] C=100, gamma=0.005, kernel=linear ...............................\n",
      "[CV]  C=100, gamma=0.005, kernel=linear, score=0.8671875, total=   4.6s\n",
      "[CV] C=100, gamma=0.005, kernel=linear ...............................\n",
      "[CV]  C=100, gamma=0.005, kernel=linear, score=0.8661417322834646, total=  17.5s\n",
      "[CV] C=100, gamma=0.005, kernel=rbf ..................................\n",
      "[CV] .. C=100, gamma=0.005, kernel=rbf, score=0.8828125, total=   0.0s\n",
      "[CV] C=100, gamma=0.005, kernel=rbf ..................................\n",
      "[CV] ... C=100, gamma=0.005, kernel=rbf, score=0.890625, total=   0.0s\n",
      "[CV] C=100, gamma=0.005, kernel=rbf ..................................\n",
      "[CV] ...... C=100, gamma=0.005, kernel=rbf, score=0.875, total=   0.0s\n",
      "[CV] C=100, gamma=0.005, kernel=rbf ..................................\n",
      "[CV] ... C=100, gamma=0.005, kernel=rbf, score=0.890625, total=   0.0s\n",
      "[CV] C=100, gamma=0.005, kernel=rbf ..................................\n",
      "[CV] ... C=100, gamma=0.005, kernel=rbf, score=0.890625, total=   0.0s\n",
      "[CV] C=100, gamma=0.005, kernel=rbf ..................................\n",
      "[CV] .. C=100, gamma=0.005, kernel=rbf, score=0.8671875, total=   0.0s\n",
      "[CV] C=100, gamma=0.005, kernel=rbf ..................................\n",
      "[CV] ...... C=100, gamma=0.005, kernel=rbf, score=0.875, total=   0.0s\n",
      "[CV] C=100, gamma=0.005, kernel=rbf ..................................\n",
      "[CV] ... C=100, gamma=0.005, kernel=rbf, score=0.890625, total=   0.0s\n",
      "[CV] C=100, gamma=0.005, kernel=rbf ..................................\n"
     ]
    },
    {
     "name": "stdout",
     "output_type": "stream",
     "text": [
      "[CV] ... C=100, gamma=0.005, kernel=rbf, score=0.890625, total=   0.0s\n",
      "[CV] C=100, gamma=0.005, kernel=rbf ..................................\n",
      "[CV]  C=100, gamma=0.005, kernel=rbf, score=0.8976377952755905, total=   0.0s\n",
      "[CV] C=1000, gamma=0.0001, kernel=linear .............................\n",
      "[CV]  C=1000, gamma=0.0001, kernel=linear, score=0.8671875, total= 2.2min\n",
      "[CV] C=1000, gamma=0.0001, kernel=linear .............................\n",
      "[CV]  C=1000, gamma=0.0001, kernel=linear, score=0.8671875, total= 2.6min\n",
      "[CV] C=1000, gamma=0.0001, kernel=linear .............................\n",
      "[CV]  C=1000, gamma=0.0001, kernel=linear, score=0.8671875, total= 3.5min\n",
      "[CV] C=1000, gamma=0.0001, kernel=linear .............................\n",
      "[CV]  C=1000, gamma=0.0001, kernel=linear, score=0.8671875, total= 2.2min\n",
      "[CV] C=1000, gamma=0.0001, kernel=linear .............................\n",
      "[CV]  C=1000, gamma=0.0001, kernel=linear, score=0.8671875, total= 1.8min\n",
      "[CV] C=1000, gamma=0.0001, kernel=linear .............................\n",
      "[CV]  C=1000, gamma=0.0001, kernel=linear, score=0.8671875, total=  58.4s\n",
      "[CV] C=1000, gamma=0.0001, kernel=linear .............................\n",
      "[CV]  C=1000, gamma=0.0001, kernel=linear, score=0.8671875, total= 3.0min\n",
      "[CV] C=1000, gamma=0.0001, kernel=linear .............................\n",
      "[CV]  C=1000, gamma=0.0001, kernel=linear, score=0.8671875, total= 3.4min\n",
      "[CV] C=1000, gamma=0.0001, kernel=linear .............................\n",
      "[CV]  C=1000, gamma=0.0001, kernel=linear, score=0.8671875, total= 2.7min\n",
      "[CV] C=1000, gamma=0.0001, kernel=linear .............................\n",
      "[CV]  C=1000, gamma=0.0001, kernel=linear, score=0.8661417322834646, total= 3.9min\n",
      "[CV] C=1000, gamma=0.0001, kernel=rbf ................................\n",
      "[CV]  C=1000, gamma=0.0001, kernel=rbf, score=0.8671875, total=   0.0s\n",
      "[CV] C=1000, gamma=0.0001, kernel=rbf ................................\n",
      "[CV]  C=1000, gamma=0.0001, kernel=rbf, score=0.8671875, total=   0.0s\n",
      "[CV] C=1000, gamma=0.0001, kernel=rbf ................................\n",
      "[CV]  C=1000, gamma=0.0001, kernel=rbf, score=0.8671875, total=   0.0s\n",
      "[CV] C=1000, gamma=0.0001, kernel=rbf ................................\n",
      "[CV]  C=1000, gamma=0.0001, kernel=rbf, score=0.8671875, total=   0.0s\n",
      "[CV] C=1000, gamma=0.0001, kernel=rbf ................................\n",
      "[CV]  C=1000, gamma=0.0001, kernel=rbf, score=0.8671875, total=   0.0s\n",
      "[CV] C=1000, gamma=0.0001, kernel=rbf ................................\n",
      "[CV]  C=1000, gamma=0.0001, kernel=rbf, score=0.8671875, total=   0.0s\n",
      "[CV] C=1000, gamma=0.0001, kernel=rbf ................................\n",
      "[CV]  C=1000, gamma=0.0001, kernel=rbf, score=0.8671875, total=   0.0s\n",
      "[CV] C=1000, gamma=0.0001, kernel=rbf ................................\n",
      "[CV]  C=1000, gamma=0.0001, kernel=rbf, score=0.8671875, total=   0.0s\n",
      "[CV] C=1000, gamma=0.0001, kernel=rbf ................................\n",
      "[CV]  C=1000, gamma=0.0001, kernel=rbf, score=0.8671875, total=   0.0s\n",
      "[CV] C=1000, gamma=0.0001, kernel=rbf ................................\n",
      "[CV]  C=1000, gamma=0.0001, kernel=rbf, score=0.8661417322834646, total=   0.0s\n",
      "[CV] C=1000, gamma=0.0005, kernel=linear .............................\n",
      "[CV]  C=1000, gamma=0.0005, kernel=linear, score=0.8671875, total= 2.3min\n",
      "[CV] C=1000, gamma=0.0005, kernel=linear .............................\n",
      "[CV]  C=1000, gamma=0.0005, kernel=linear, score=0.8671875, total= 2.7min\n",
      "[CV] C=1000, gamma=0.0005, kernel=linear .............................\n",
      "[CV]  C=1000, gamma=0.0005, kernel=linear, score=0.8671875, total= 3.6min\n",
      "[CV] C=1000, gamma=0.0005, kernel=linear .............................\n",
      "[CV]  C=1000, gamma=0.0005, kernel=linear, score=0.8671875, total= 2.3min\n",
      "[CV] C=1000, gamma=0.0005, kernel=linear .............................\n",
      "[CV]  C=1000, gamma=0.0005, kernel=linear, score=0.8671875, total= 1.7min\n",
      "[CV] C=1000, gamma=0.0005, kernel=linear .............................\n",
      "[CV]  C=1000, gamma=0.0005, kernel=linear, score=0.8671875, total=  57.9s\n",
      "[CV] C=1000, gamma=0.0005, kernel=linear .............................\n",
      "[CV]  C=1000, gamma=0.0005, kernel=linear, score=0.8671875, total= 3.0min\n",
      "[CV] C=1000, gamma=0.0005, kernel=linear .............................\n",
      "[CV]  C=1000, gamma=0.0005, kernel=linear, score=0.8671875, total= 3.4min\n",
      "[CV] C=1000, gamma=0.0005, kernel=linear .............................\n",
      "[CV]  C=1000, gamma=0.0005, kernel=linear, score=0.8671875, total= 2.7min\n",
      "[CV] C=1000, gamma=0.0005, kernel=linear .............................\n",
      "[CV]  C=1000, gamma=0.0005, kernel=linear, score=0.8661417322834646, total= 3.9min\n",
      "[CV] C=1000, gamma=0.0005, kernel=rbf ................................\n",
      "[CV] .... C=1000, gamma=0.0005, kernel=rbf, score=0.875, total=   0.0s\n",
      "[CV] C=1000, gamma=0.0005, kernel=rbf ................................\n",
      "[CV]  C=1000, gamma=0.0005, kernel=rbf, score=0.8671875, total=   0.0s\n",
      "[CV] C=1000, gamma=0.0005, kernel=rbf ................................\n",
      "[CV] . C=1000, gamma=0.0005, kernel=rbf, score=0.859375, total=   0.0s\n",
      "[CV] C=1000, gamma=0.0005, kernel=rbf ................................\n",
      "[CV]  C=1000, gamma=0.0005, kernel=rbf, score=0.8515625, total=   0.0s\n",
      "[CV] C=1000, gamma=0.0005, kernel=rbf ................................\n",
      "[CV]  C=1000, gamma=0.0005, kernel=rbf, score=0.8828125, total=   0.0s\n",
      "[CV] C=1000, gamma=0.0005, kernel=rbf ................................\n",
      "[CV] .. C=1000, gamma=0.0005, kernel=rbf, score=0.84375, total=   0.0s\n",
      "[CV] C=1000, gamma=0.0005, kernel=rbf ................................\n",
      "[CV] .... C=1000, gamma=0.0005, kernel=rbf, score=0.875, total=   0.0s\n",
      "[CV] C=1000, gamma=0.0005, kernel=rbf ................................\n",
      "[CV] .... C=1000, gamma=0.0005, kernel=rbf, score=0.875, total=   0.0s\n",
      "[CV] C=1000, gamma=0.0005, kernel=rbf ................................\n",
      "[CV] .... C=1000, gamma=0.0005, kernel=rbf, score=0.875, total=   0.0s\n",
      "[CV] C=1000, gamma=0.0005, kernel=rbf ................................\n",
      "[CV]  C=1000, gamma=0.0005, kernel=rbf, score=0.8661417322834646, total=   0.0s\n",
      "[CV] C=1000, gamma=0.001, kernel=linear ..............................\n",
      "[CV]  C=1000, gamma=0.001, kernel=linear, score=0.8671875, total= 2.3min\n",
      "[CV] C=1000, gamma=0.001, kernel=linear ..............................\n",
      "[CV]  C=1000, gamma=0.001, kernel=linear, score=0.8671875, total= 2.6min\n",
      "[CV] C=1000, gamma=0.001, kernel=linear ..............................\n",
      "[CV]  C=1000, gamma=0.001, kernel=linear, score=0.8671875, total= 3.6min\n",
      "[CV] C=1000, gamma=0.001, kernel=linear ..............................\n",
      "[CV]  C=1000, gamma=0.001, kernel=linear, score=0.8671875, total= 2.2min\n",
      "[CV] C=1000, gamma=0.001, kernel=linear ..............................\n",
      "[CV]  C=1000, gamma=0.001, kernel=linear, score=0.8671875, total= 1.8min\n",
      "[CV] C=1000, gamma=0.001, kernel=linear ..............................\n",
      "[CV]  C=1000, gamma=0.001, kernel=linear, score=0.8671875, total=  58.0s\n",
      "[CV] C=1000, gamma=0.001, kernel=linear ..............................\n",
      "[CV]  C=1000, gamma=0.001, kernel=linear, score=0.8671875, total= 3.0min\n",
      "[CV] C=1000, gamma=0.001, kernel=linear ..............................\n",
      "[CV]  C=1000, gamma=0.001, kernel=linear, score=0.8671875, total= 3.4min\n",
      "[CV] C=1000, gamma=0.001, kernel=linear ..............................\n",
      "[CV]  C=1000, gamma=0.001, kernel=linear, score=0.8671875, total= 2.7min\n",
      "[CV] C=1000, gamma=0.001, kernel=linear ..............................\n",
      "[CV]  C=1000, gamma=0.001, kernel=linear, score=0.8661417322834646, total= 3.9min\n",
      "[CV] C=1000, gamma=0.001, kernel=rbf .................................\n",
      "[CV] . C=1000, gamma=0.001, kernel=rbf, score=0.8828125, total=   0.0s\n",
      "[CV] C=1000, gamma=0.001, kernel=rbf .................................\n",
      "[CV] . C=1000, gamma=0.001, kernel=rbf, score=0.8671875, total=   0.0s\n",
      "[CV] C=1000, gamma=0.001, kernel=rbf .................................\n",
      "[CV] . C=1000, gamma=0.001, kernel=rbf, score=0.8671875, total=   0.0s\n",
      "[CV] C=1000, gamma=0.001, kernel=rbf .................................\n",
      "[CV] ..... C=1000, gamma=0.001, kernel=rbf, score=0.875, total=   0.0s\n",
      "[CV] C=1000, gamma=0.001, kernel=rbf .................................\n",
      "[CV] .. C=1000, gamma=0.001, kernel=rbf, score=0.890625, total=   0.0s\n",
      "[CV] C=1000, gamma=0.001, kernel=rbf .................................\n"
     ]
    },
    {
     "name": "stdout",
     "output_type": "stream",
     "text": [
      "[CV] . C=1000, gamma=0.001, kernel=rbf, score=0.8515625, total=   0.0s\n",
      "[CV] C=1000, gamma=0.001, kernel=rbf .................................\n",
      "[CV] .. C=1000, gamma=0.001, kernel=rbf, score=0.890625, total=   0.0s\n",
      "[CV] C=1000, gamma=0.001, kernel=rbf .................................\n",
      "[CV] . C=1000, gamma=0.001, kernel=rbf, score=0.8984375, total=   0.0s\n",
      "[CV] C=1000, gamma=0.001, kernel=rbf .................................\n",
      "[CV] . C=1000, gamma=0.001, kernel=rbf, score=0.8671875, total=   0.0s\n",
      "[CV] C=1000, gamma=0.001, kernel=rbf .................................\n",
      "[CV]  C=1000, gamma=0.001, kernel=rbf, score=0.8818897637795275, total=   0.0s\n",
      "[CV] C=1000, gamma=0.005, kernel=linear ..............................\n",
      "[CV]  C=1000, gamma=0.005, kernel=linear, score=0.8671875, total= 2.3min\n",
      "[CV] C=1000, gamma=0.005, kernel=linear ..............................\n",
      "[CV]  C=1000, gamma=0.005, kernel=linear, score=0.8671875, total= 2.3min\n",
      "[CV] C=1000, gamma=0.005, kernel=linear ..............................\n",
      "[CV]  C=1000, gamma=0.005, kernel=linear, score=0.8671875, total= 3.5min\n",
      "[CV] C=1000, gamma=0.005, kernel=linear ..............................\n",
      "[CV]  C=1000, gamma=0.005, kernel=linear, score=0.8671875, total= 2.3min\n",
      "[CV] C=1000, gamma=0.005, kernel=linear ..............................\n",
      "[CV]  C=1000, gamma=0.005, kernel=linear, score=0.8671875, total= 1.8min\n",
      "[CV] C=1000, gamma=0.005, kernel=linear ..............................\n",
      "[CV]  C=1000, gamma=0.005, kernel=linear, score=0.8671875, total=  58.4s\n",
      "[CV] C=1000, gamma=0.005, kernel=linear ..............................\n",
      "[CV]  C=1000, gamma=0.005, kernel=linear, score=0.8671875, total= 2.5min\n",
      "[CV] C=1000, gamma=0.005, kernel=linear ..............................\n",
      "[CV]  C=1000, gamma=0.005, kernel=linear, score=0.8671875, total= 3.4min\n",
      "[CV] C=1000, gamma=0.005, kernel=linear ..............................\n",
      "[CV]  C=1000, gamma=0.005, kernel=linear, score=0.8671875, total= 2.7min\n",
      "[CV] C=1000, gamma=0.005, kernel=linear ..............................\n",
      "[CV]  C=1000, gamma=0.005, kernel=linear, score=0.8661417322834646, total= 3.9min\n",
      "[CV] C=1000, gamma=0.005, kernel=rbf .................................\n",
      "[CV] . C=1000, gamma=0.005, kernel=rbf, score=0.8828125, total=   0.0s\n",
      "[CV] C=1000, gamma=0.005, kernel=rbf .................................\n",
      "[CV] . C=1000, gamma=0.005, kernel=rbf, score=0.8828125, total=   0.0s\n",
      "[CV] C=1000, gamma=0.005, kernel=rbf .................................\n",
      "[CV] .. C=1000, gamma=0.005, kernel=rbf, score=0.890625, total=   0.1s\n",
      "[CV] C=1000, gamma=0.005, kernel=rbf .................................\n",
      "[CV] . C=1000, gamma=0.005, kernel=rbf, score=0.9140625, total=   0.1s\n",
      "[CV] C=1000, gamma=0.005, kernel=rbf .................................\n",
      "[CV] ..... C=1000, gamma=0.005, kernel=rbf, score=0.875, total=   0.0s\n",
      "[CV] C=1000, gamma=0.005, kernel=rbf .................................\n",
      "[CV] .. C=1000, gamma=0.005, kernel=rbf, score=0.859375, total=   0.1s\n",
      "[CV] C=1000, gamma=0.005, kernel=rbf .................................\n",
      "[CV] . C=1000, gamma=0.005, kernel=rbf, score=0.8828125, total=   0.1s\n",
      "[CV] C=1000, gamma=0.005, kernel=rbf .................................\n",
      "[CV] . C=1000, gamma=0.005, kernel=rbf, score=0.8828125, total=   0.1s\n",
      "[CV] C=1000, gamma=0.005, kernel=rbf .................................\n",
      "[CV] ..... C=1000, gamma=0.005, kernel=rbf, score=0.875, total=   0.1s\n",
      "[CV] C=1000, gamma=0.005, kernel=rbf .................................\n",
      "[CV]  C=1000, gamma=0.005, kernel=rbf, score=0.8740157480314961, total=   0.1s\n"
     ]
    },
    {
     "name": "stderr",
     "output_type": "stream",
     "text": [
      "[Parallel(n_jobs=1)]: Done 320 out of 320 | elapsed: 110.4min finished\n"
     ]
    },
    {
     "data": {
      "text/plain": [
       "GridSearchCV(cv=10, error_score='raise-deprecating',\n",
       "       estimator=SVC(C=1.0, cache_size=200, class_weight=None, coef0=0.0,\n",
       "  decision_function_shape='ovr', degree=3, gamma='auto_deprecated',\n",
       "  kernel='rbf', max_iter=-1, probability=False, random_state=None,\n",
       "  shrinking=True, tol=0.001, verbose=False),\n",
       "       fit_params=None, iid='warn', n_jobs=None,\n",
       "       param_grid={'C': [1, 10, 100, 1000], 'kernel': ['linear', 'rbf'], 'gamma': [0.0001, 0.0005, 0.001, 0.005]},\n",
       "       pre_dispatch='2*n_jobs', refit=True, return_train_score='warn',\n",
       "       scoring='accuracy', verbose=3)"
      ]
     },
     "execution_count": 22,
     "metadata": {},
     "output_type": "execute_result"
    }
   ],
   "source": [
    "grid_svc.fit(X_train, y_train)"
   ]
  },
  {
   "cell_type": "code",
   "execution_count": 23,
   "metadata": {
    "_cell_guid": "55a3e439-c2e3-426e-a1a5-cd653bf8bfa9",
    "_uuid": "0d70efd0eb41271afb4ac50291aa83c6791847a3"
   },
   "outputs": [
    {
     "data": {
      "text/plain": [
       "{'C': 100, 'gamma': 0.005, 'kernel': 'rbf'}"
      ]
     },
     "execution_count": 23,
     "metadata": {},
     "output_type": "execute_result"
    }
   ],
   "source": [
    "#Best parameters\n",
    "grid_svc.best_params_"
   ]
  },
  {
   "cell_type": "code",
   "execution_count": 24,
   "metadata": {
    "_cell_guid": "362ff8bd-7cf3-48af-a93a-499b52dab0d7",
    "_uuid": "dd4a0ac5ef6c17e9e2312a03df0d82ca088c40f2"
   },
   "outputs": [
    {
     "name": "stdout",
     "output_type": "stream",
     "text": [
      "              precision    recall  f1-score   support\n",
      "\n",
      "           0       0.89      0.99      0.93       273\n",
      "           1       0.80      0.26      0.39        47\n",
      "\n",
      "   micro avg       0.88      0.88      0.88       320\n",
      "   macro avg       0.84      0.62      0.66       320\n",
      "weighted avg       0.87      0.88      0.85       320\n",
      "\n"
     ]
    }
   ],
   "source": [
    "#SVC with best parameters\n",
    "svc2 = SVC(C = 100, gamma =  0.005, kernel= 'rbf')\n",
    "svc2.fit(X_train, y_train)\n",
    "pred_svc2 = svc2.predict(X_test)\n",
    "print(classification_report(y_test, pred_svc2))"
   ]
  },
  {
   "cell_type": "markdown",
   "metadata": {
    "_cell_guid": "d14b50b9-006a-490f-a626-4a2a41b843d6",
    "_uuid": "eca47cbe6600911992c4ebee60c68e3fe37a3c91"
   },
   "source": [
    "### SVC improves from 85% to 87% using Grid Search CV"
   ]
  },
  {
   "cell_type": "markdown",
   "metadata": {
    "_cell_guid": "d6cd1c1f-9531-4c6a-87c1-262dd7fb6caf",
    "_uuid": "9f705df2b81e776eedc164c5d933ff4dd4c61d31"
   },
   "source": [
    "## Cross Validation Score"
   ]
  },
  {
   "cell_type": "code",
   "execution_count": 26,
   "metadata": {
    "scrolled": true
   },
   "outputs": [
    {
     "name": "stdout",
     "output_type": "stream",
     "text": [
      "rfc has a Cross Validation Score of 0.9116818405511811\n",
      "rfc(best) has a Cross Validation Score of 0.910894438976378\n"
     ]
    },
    {
     "name": "stderr",
     "output_type": "stream",
     "text": [
      "C:\\ProgramData\\Anaconda3\\lib\\site-packages\\sklearn\\svm\\base.py:196: FutureWarning: The default value of gamma will change from 'auto' to 'scale' in version 0.22 to account better for unscaled features. Set gamma explicitly to 'auto' or 'scale' to avoid this warning.\n",
      "  \"avoid this warning.\", FutureWarning)\n",
      "C:\\ProgramData\\Anaconda3\\lib\\site-packages\\sklearn\\svm\\base.py:196: FutureWarning: The default value of gamma will change from 'auto' to 'scale' in version 0.22 to account better for unscaled features. Set gamma explicitly to 'auto' or 'scale' to avoid this warning.\n",
      "  \"avoid this warning.\", FutureWarning)\n",
      "C:\\ProgramData\\Anaconda3\\lib\\site-packages\\sklearn\\svm\\base.py:196: FutureWarning: The default value of gamma will change from 'auto' to 'scale' in version 0.22 to account better for unscaled features. Set gamma explicitly to 'auto' or 'scale' to avoid this warning.\n",
      "  \"avoid this warning.\", FutureWarning)\n",
      "C:\\ProgramData\\Anaconda3\\lib\\site-packages\\sklearn\\svm\\base.py:196: FutureWarning: The default value of gamma will change from 'auto' to 'scale' in version 0.22 to account better for unscaled features. Set gamma explicitly to 'auto' or 'scale' to avoid this warning.\n",
      "  \"avoid this warning.\", FutureWarning)\n",
      "C:\\ProgramData\\Anaconda3\\lib\\site-packages\\sklearn\\svm\\base.py:196: FutureWarning: The default value of gamma will change from 'auto' to 'scale' in version 0.22 to account better for unscaled features. Set gamma explicitly to 'auto' or 'scale' to avoid this warning.\n",
      "  \"avoid this warning.\", FutureWarning)\n",
      "C:\\ProgramData\\Anaconda3\\lib\\site-packages\\sklearn\\svm\\base.py:196: FutureWarning: The default value of gamma will change from 'auto' to 'scale' in version 0.22 to account better for unscaled features. Set gamma explicitly to 'auto' or 'scale' to avoid this warning.\n",
      "  \"avoid this warning.\", FutureWarning)\n",
      "C:\\ProgramData\\Anaconda3\\lib\\site-packages\\sklearn\\svm\\base.py:196: FutureWarning: The default value of gamma will change from 'auto' to 'scale' in version 0.22 to account better for unscaled features. Set gamma explicitly to 'auto' or 'scale' to avoid this warning.\n",
      "  \"avoid this warning.\", FutureWarning)\n",
      "C:\\ProgramData\\Anaconda3\\lib\\site-packages\\sklearn\\svm\\base.py:196: FutureWarning: The default value of gamma will change from 'auto' to 'scale' in version 0.22 to account better for unscaled features. Set gamma explicitly to 'auto' or 'scale' to avoid this warning.\n",
      "  \"avoid this warning.\", FutureWarning)\n",
      "C:\\ProgramData\\Anaconda3\\lib\\site-packages\\sklearn\\svm\\base.py:196: FutureWarning: The default value of gamma will change from 'auto' to 'scale' in version 0.22 to account better for unscaled features. Set gamma explicitly to 'auto' or 'scale' to avoid this warning.\n",
      "  \"avoid this warning.\", FutureWarning)\n",
      "C:\\ProgramData\\Anaconda3\\lib\\site-packages\\sklearn\\svm\\base.py:196: FutureWarning: The default value of gamma will change from 'auto' to 'scale' in version 0.22 to account better for unscaled features. Set gamma explicitly to 'auto' or 'scale' to avoid this warning.\n",
      "  \"avoid this warning.\", FutureWarning)\n"
     ]
    },
    {
     "name": "stdout",
     "output_type": "stream",
     "text": [
      "svc has a Cross Validation Score of 0.8850762795275591\n",
      "svc(best) has a Cross Validation Score of 0.8850762795275591\n"
     ]
    }
   ],
   "source": [
    "#Cross validation for different models\n",
    "from sklearn.model_selection import cross_val_score\n",
    "algs_list = [rfc, rfc2, svc, svc2]\n",
    "algs_names = ['rfc','rfc(best)', 'svc', 'svc(best)']\n",
    "i=0\n",
    "for alg in algs_list:\n",
    "    cross_score = cross_val_score(alg, X = X_train, y = y_train, cv = 10)\n",
    "    print(f\"{algs_names[i]} has a Cross Validation Score of {cross_score.mean()}\")\n",
    "    i +=1\n",
    "    \n"
   ]
  },
  {
   "cell_type": "markdown",
   "metadata": {
    "_cell_guid": "4a6ab3c5-4b28-442e-be48-9e3eb14a6e79",
    "_uuid": "186ca0ca24faac487ca40563c9490f94f51a433a"
   },
   "source": [
    "### Using Cross Validation, Random Forest Classifier using all data has the best accuracy at 91.17%"
   ]
  },
  {
   "cell_type": "code",
   "execution_count": null,
   "metadata": {
    "_cell_guid": "9880c001-331b-43d2-9a35-7c653909eaf0",
    "_uuid": "6b8d3662f89c436749ee26af98b0f79636c569c2"
   },
   "outputs": [],
   "source": [
    "\n"
   ]
  },
  {
   "cell_type": "code",
   "execution_count": null,
   "metadata": {},
   "outputs": [],
   "source": []
  },
  {
   "cell_type": "code",
   "execution_count": null,
   "metadata": {},
   "outputs": [],
   "source": []
  },
  {
   "cell_type": "code",
   "execution_count": null,
   "metadata": {},
   "outputs": [],
   "source": []
  }
 ],
 "metadata": {
  "kernelspec": {
   "display_name": "Python 3",
   "language": "python",
   "name": "python3"
  },
  "language_info": {
   "codemirror_mode": {
    "name": "ipython",
    "version": 3
   },
   "file_extension": ".py",
   "mimetype": "text/x-python",
   "name": "python",
   "nbconvert_exporter": "python",
   "pygments_lexer": "ipython3",
   "version": "3.7.1"
  }
 },
 "nbformat": 4,
 "nbformat_minor": 1
}
